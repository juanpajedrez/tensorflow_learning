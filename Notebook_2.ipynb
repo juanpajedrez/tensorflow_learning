{
  "nbformat": 4,
  "nbformat_minor": 0,
  "metadata": {
    "colab": {
      "provenance": [],
      "authorship_tag": "ABX9TyPJvgJkFTqsktn8J2DOJmMc",
      "include_colab_link": true
    },
    "kernelspec": {
      "name": "python3",
      "display_name": "Python 3"
    },
    "language_info": {
      "name": "python"
    }
  },
  "cells": [
    {
      "cell_type": "markdown",
      "metadata": {
        "id": "view-in-github",
        "colab_type": "text"
      },
      "source": [
        "<a href=\"https://colab.research.google.com/github/juanpajedrez/tensorflow_learning/blob/main/Notebook_2.ipynb\" target=\"_parent\"><img src=\"https://colab.research.google.com/assets/colab-badge.svg\" alt=\"Open In Colab\"/></a>"
      ]
    },
    {
      "cell_type": "markdown",
      "source": [
        "### Tensorflow and mathematical operations\n",
        "\n",
        "Here, we show the tf.math to use for mathematical operations."
      ],
      "metadata": {
        "id": "IJNT7u-UVdMi"
      }
    },
    {
      "cell_type": "code",
      "source": [
        "import tensorflow as tf"
      ],
      "metadata": {
        "id": "74EpEeVYVlfS"
      },
      "execution_count": 2,
      "outputs": []
    },
    {
      "cell_type": "code",
      "source": [
        "# real number\n",
        "x_abs = tf.constant([-2.25, 3.25])\n",
        "tf.abs(x_abs)"
      ],
      "metadata": {
        "colab": {
          "base_uri": "https://localhost:8080/"
        },
        "id": "goQOS25UWhIQ",
        "outputId": "2fc238ea-ea84-4e1d-cf66-97da74b17699"
      },
      "execution_count": 3,
      "outputs": [
        {
          "output_type": "execute_result",
          "data": {
            "text/plain": [
              "<tf.Tensor: shape=(2,), dtype=float32, numpy=array([2.25, 3.25], dtype=float32)>"
            ]
          },
          "metadata": {},
          "execution_count": 3
        }
      ]
    },
    {
      "cell_type": "code",
      "source": [
        "tf.abs(tf.constant(-0.3))"
      ],
      "metadata": {
        "colab": {
          "base_uri": "https://localhost:8080/"
        },
        "id": "0UcDOwQOWsgQ",
        "outputId": "f1c77f2c-023c-4e81-c166-b772a5b557e4"
      },
      "execution_count": 4,
      "outputs": [
        {
          "output_type": "execute_result",
          "data": {
            "text/plain": [
              "<tf.Tensor: shape=(), dtype=float32, numpy=0.3>"
            ]
          },
          "metadata": {},
          "execution_count": 4
        }
      ]
    },
    {
      "cell_type": "code",
      "source": [
        "# complex number\n",
        "x_abs_complex = tf.constant([[-2.25 + 4.75j], [-3.25 + 5.75j]])\n",
        "tf.abs(x_abs_complex)"
      ],
      "metadata": {
        "colab": {
          "base_uri": "https://localhost:8080/"
        },
        "id": "-jQTYCumW4Rf",
        "outputId": "7bf01edf-fda7-4d08-8d7c-793b92620ef2"
      },
      "execution_count": 5,
      "outputs": [
        {
          "output_type": "execute_result",
          "data": {
            "text/plain": [
              "<tf.Tensor: shape=(2, 1), dtype=float64, numpy=\n",
              "array([[5.25594901],\n",
              "       [6.60492241]])>"
            ]
          },
          "metadata": {},
          "execution_count": 5
        }
      ]
    },
    {
      "cell_type": "code",
      "source": [
        "tf.sqrt((-2.25)**2 + (4.75)**2)"
      ],
      "metadata": {
        "colab": {
          "base_uri": "https://localhost:8080/"
        },
        "id": "PbwWHUnrcGOg",
        "outputId": "36faaddf-ca3c-4e64-83ea-c6933f146e81"
      },
      "execution_count": 6,
      "outputs": [
        {
          "output_type": "execute_result",
          "data": {
            "text/plain": [
              "<tf.Tensor: shape=(), dtype=float32, numpy=5.255949>"
            ]
          },
          "metadata": {},
          "execution_count": 6
        }
      ]
    },
    {
      "cell_type": "code",
      "source": [
        "x_1 = tf.constant([5,3,6,6,4,6], dtype = tf.float32)\n",
        "x_2 = tf.constant([7,6,2,6,0,11], dtype = tf.float32)\n",
        "\n",
        "#Add element wise, multiply, subtract, dividie\n",
        "print(tf.add(x_1, x_2))\n",
        "print(tf.subtract(x_1, x_2))\n",
        "print(tf.multiply(x_1, x_2))\n",
        "print(tf.divide(x_1, x_2))\n",
        "print(tf.math.divide_no_nan(x_1, x_2, name=None))"
      ],
      "metadata": {
        "colab": {
          "base_uri": "https://localhost:8080/"
        },
        "id": "flwdbbrwcYTG",
        "outputId": "5a5fd3bd-a45e-4281-c276-b34d8af62c08"
      },
      "execution_count": 7,
      "outputs": [
        {
          "output_type": "stream",
          "name": "stdout",
          "text": [
            "tf.Tensor([12.  9.  8. 12.  4. 17.], shape=(6,), dtype=float32)\n",
            "tf.Tensor([-2. -3.  4.  0.  4. -5.], shape=(6,), dtype=float32)\n",
            "tf.Tensor([35. 18. 12. 36.  0. 66.], shape=(6,), dtype=float32)\n",
            "tf.Tensor([0.71428573 0.5        3.         1.                inf 0.54545456], shape=(6,), dtype=float32)\n",
            "tf.Tensor([0.71428573 0.5        3.         1.         0.         0.54545456], shape=(6,), dtype=float32)\n"
          ]
        }
      ]
    },
    {
      "cell_type": "markdown",
      "source": [
        "### Broadcasting\n",
        "Perform some mathematical operations to showcase the power of broadcasting"
      ],
      "metadata": {
        "id": "fOcM_oHudxxl"
      }
    },
    {
      "cell_type": "code",
      "source": [
        "#1D tensors\n",
        "x_1 = tf.constant([5,3,6,6,4,6], dtype = tf.float32)\n",
        "x_2 = tf.constant([7], dtype = tf.float32)\n",
        "x_2_stretched = tf.constant([7,7,7,7,7,7], dtype = tf.float32)\n",
        "\n",
        "#Divide with only one value, and with stretched to show broadcasting.\n",
        "print(tf.math.divide_no_nan(x_1, x_2, name=None))\n",
        "print(tf.math.divide_no_nan(x_1, x_2_stretched, name = None))"
      ],
      "metadata": {
        "colab": {
          "base_uri": "https://localhost:8080/"
        },
        "id": "Z8gLFO80dn4X",
        "outputId": "157e3e9f-3a5e-4d57-c243-485d8864bb99"
      },
      "execution_count": 8,
      "outputs": [
        {
          "output_type": "stream",
          "name": "stdout",
          "text": [
            "tf.Tensor([0.71428573 0.42857143 0.85714287 0.85714287 0.5714286  0.85714287], shape=(6,), dtype=float32)\n",
            "tf.Tensor([0.71428573 0.42857143 0.85714287 0.85714287 0.5714286  0.85714287], shape=(6,), dtype=float32)\n"
          ]
        }
      ]
    },
    {
      "cell_type": "code",
      "source": [
        "#2D tensors\n",
        "x_1 = tf.constant([[5,3,6,6,4,6]], dtype = tf.float32)\n",
        "x_2 = tf.constant([[7], [5], [3]], dtype = tf.float32)\n",
        "\n",
        "#Dimensions of length 1 would be stretched\n",
        "print(x_1.shape)\n",
        "print(x_2.shape)\n",
        "\n",
        "#When multiplying, X_1 is stretched from (1,6)-> (3,6)\n",
        "#X2 would be stretched from (3,1) -> (3,6)\n",
        "print(tf.math.multiply(x_1, x_2, name=None))"
      ],
      "metadata": {
        "colab": {
          "base_uri": "https://localhost:8080/"
        },
        "id": "0KNvEu4seZWu",
        "outputId": "3006fc8f-c2fa-4b09-a51c-36b37cf8f4b9"
      },
      "execution_count": 9,
      "outputs": [
        {
          "output_type": "stream",
          "name": "stdout",
          "text": [
            "(1, 6)\n",
            "(3, 1)\n",
            "tf.Tensor(\n",
            "[[35. 21. 42. 42. 28. 42.]\n",
            " [25. 15. 30. 30. 20. 30.]\n",
            " [15.  9. 18. 18. 12. 18.]], shape=(3, 6), dtype=float32)\n"
          ]
        }
      ]
    },
    {
      "cell_type": "markdown",
      "source": [
        "### Maximum, Minimum, argmax, and argmin\n",
        "\n",
        "We are gonna see the usage of the max, min, argmax, and argmin methods."
      ],
      "metadata": {
        "id": "uvA0kzJEfaZk"
      }
    },
    {
      "cell_type": "code",
      "source": [
        "#Maximum between two tensors\n",
        "x = tf.constant([4., 2., -3., 2])\n",
        "y = tf.constant([-2., 0., 2., 5.])\n",
        "\n",
        "#Perform the maximum and minimum\n",
        "print(tf.math.maximum(x, y))\n",
        "print(tf.math.minimum(x, y))"
      ],
      "metadata": {
        "colab": {
          "base_uri": "https://localhost:8080/"
        },
        "id": "H559P3PQdL2y",
        "outputId": "78ee6f4b-fb45-4ac6-89be-0673d1636cdd"
      },
      "execution_count": 10,
      "outputs": [
        {
          "output_type": "stream",
          "name": "stdout",
          "text": [
            "tf.Tensor([4. 2. 2. 5.], shape=(4,), dtype=float32)\n",
            "tf.Tensor([-2.  0. -3.  2.], shape=(4,), dtype=float32)\n"
          ]
        }
      ]
    },
    {
      "cell_type": "code",
      "source": [
        "# Find the index where the max and min are using argmax and argmin\n",
        "# For 1D tensors\n",
        "x_argmax = tf.constant([200, 120, 130, 3, 6])\n",
        "print(x_argmax)\n",
        "print(tf.math.argmax(x_argmax))\n",
        "print(tf.math.argmin(x_argmax))\n",
        "\n",
        "x_argmax = tf.constant([200, 120, 1300, 3, 6])\n",
        "print(x_argmax)\n",
        "print(tf.math.argmax(x_argmax))\n",
        "print(tf.math.argmin(x_argmax))"
      ],
      "metadata": {
        "colab": {
          "base_uri": "https://localhost:8080/"
        },
        "id": "oQvp2gPhgaDu",
        "outputId": "220d4b8b-3981-4e91-92c5-1bc29f1ea15d"
      },
      "execution_count": 11,
      "outputs": [
        {
          "output_type": "stream",
          "name": "stdout",
          "text": [
            "tf.Tensor([200 120 130   3   6], shape=(5,), dtype=int32)\n",
            "tf.Tensor(0, shape=(), dtype=int64)\n",
            "tf.Tensor(3, shape=(), dtype=int64)\n",
            "tf.Tensor([ 200  120 1300    3    6], shape=(5,), dtype=int32)\n",
            "tf.Tensor(2, shape=(), dtype=int64)\n",
            "tf.Tensor(3, shape=(), dtype=int64)\n"
          ]
        }
      ]
    },
    {
      "cell_type": "code",
      "source": [
        "# Find the index where the max and min are using argmax and argmin\n",
        "# For 2D tensors\n",
        "x_argmax = tf.constant([[2, 20, 30, 3, 6],\n",
        "                        [3, 11, 16, 1, 8],\n",
        "                        [14, 45, 23, 5, 27]])\n",
        "#Get the shape\n",
        "print(x_argmax.shape)\n",
        "\n",
        "#Specify axis 0 (rows)\n",
        "print(tf.math.argmax(x_argmax, 0))\n",
        "print(tf.math.argmin(x_argmax, 0))\n",
        "\n",
        "#Specify to axis 1 (cols)\n",
        "print(tf.math.argmax(x_argmax, 1))\n",
        "print(tf.math.argmin(x_argmax, 1))"
      ],
      "metadata": {
        "colab": {
          "base_uri": "https://localhost:8080/"
        },
        "id": "JQyxpDxugJ84",
        "outputId": "48e41033-14aa-45b1-94dd-9884a7e86796"
      },
      "execution_count": 12,
      "outputs": [
        {
          "output_type": "stream",
          "name": "stdout",
          "text": [
            "(3, 5)\n",
            "tf.Tensor([2 2 0 2 2], shape=(5,), dtype=int64)\n",
            "tf.Tensor([0 1 1 1 0], shape=(5,), dtype=int64)\n",
            "tf.Tensor([2 2 1], shape=(3,), dtype=int64)\n",
            "tf.Tensor([0 3 3], shape=(3,), dtype=int64)\n"
          ]
        }
      ]
    },
    {
      "cell_type": "code",
      "source": [
        "# Find the index where the max and min are using argmax and argmin\n",
        "# For 3D tensors\n",
        "x_argmax = tf.constant([[[2, 20, 30, 3, 6],\n",
        "                         [5, 20, 10, 2, 3]],\n",
        "                        [[3, 11, 16, 1, 8],\n",
        "                         [5, 3, 2, 10, 20]],\n",
        "                        [[14, 45, 23, 5, 27],\n",
        "                         [10, 12, 4, 20, 2]]])\n",
        "\n",
        "# Get the shape\n",
        "print(x_argmax.shape)\n",
        "\n",
        "#Specify axis 0 (Third dimension)\n",
        "print(tf.math.argmax(x_argmax, 0))\n",
        "\n",
        "#Specify to axis 1 (Second dimension)\n",
        "print(tf.math.argmax(x_argmax, 1))\n",
        "\n",
        "#Specify to axis 2 (Third dimension)\n",
        "print(tf.math.argmax(x_argmax, 2))"
      ],
      "metadata": {
        "colab": {
          "base_uri": "https://localhost:8080/"
        },
        "id": "OcUMfVMJiO49",
        "outputId": "36559f0e-1acd-4844-e322-92db69f7c5a4"
      },
      "execution_count": 13,
      "outputs": [
        {
          "output_type": "stream",
          "name": "stdout",
          "text": [
            "(3, 2, 5)\n",
            "tf.Tensor(\n",
            "[[2 2 0 2 2]\n",
            " [2 0 0 2 1]], shape=(2, 5), dtype=int64)\n",
            "tf.Tensor(\n",
            "[[1 0 0 0 0]\n",
            " [1 0 0 1 1]\n",
            " [0 0 0 1 0]], shape=(3, 5), dtype=int64)\n",
            "tf.Tensor(\n",
            "[[2 1]\n",
            " [2 4]\n",
            " [1 3]], shape=(3, 2), dtype=int64)\n"
          ]
        }
      ]
    },
    {
      "cell_type": "markdown",
      "source": [
        "### Power, reduce_sum, reduce_max, reduce_mean\n",
        "\n",
        "Perform power and sum across a specific dimension"
      ],
      "metadata": {
        "id": "cQ2zR2-cmdZ7"
      }
    },
    {
      "cell_type": "code",
      "source": [
        "#Send the power\n",
        "x = tf.constant([[2, 2], [3, 3]])\n",
        "y = tf.constant([[3, 0], [1, 4]])\n",
        "tf.pow(x, y) #[[256, 65536], [9, 27]]"
      ],
      "metadata": {
        "colab": {
          "base_uri": "https://localhost:8080/"
        },
        "id": "L9Ceb6CWmld4",
        "outputId": "00b3a650-6d2c-4a31-f321-76b8c5d7f6db"
      },
      "execution_count": 14,
      "outputs": [
        {
          "output_type": "execute_result",
          "data": {
            "text/plain": [
              "<tf.Tensor: shape=(2, 2), dtype=int32, numpy=\n",
              "array([[ 8,  1],\n",
              "       [ 3, 81]], dtype=int32)>"
            ]
          },
          "metadata": {},
          "execution_count": 14
        }
      ]
    },
    {
      "cell_type": "code",
      "source": [
        "tf.pow(tf.constant(2), tf.constant(3))"
      ],
      "metadata": {
        "colab": {
          "base_uri": "https://localhost:8080/"
        },
        "id": "mZrQJOoTqMzF",
        "outputId": "8b83b373-ca18-4a45-bd30-ee9f55a02a42"
      },
      "execution_count": 15,
      "outputs": [
        {
          "output_type": "execute_result",
          "data": {
            "text/plain": [
              "<tf.Tensor: shape=(), dtype=int32, numpy=8>"
            ]
          },
          "metadata": {},
          "execution_count": 15
        }
      ]
    },
    {
      "cell_type": "code",
      "source": [
        "tensor_two_d = tf.constant([\n",
        "    [1,-2,0],\n",
        "    [3,5,100],\n",
        "    [1,5,6],\n",
        "    [2,3,8]\n",
        "], dtype = tf.float16)\n",
        "\n",
        "#Print the shape\n",
        "print(tensor_two_d.shape)\n",
        "\n",
        "#Pass the 2D tensor and reduce sum, max\n",
        "print(tf.math.reduce_sum(\n",
        "    tensor_two_d, axis=0, keepdims=False, name=None\n",
        "))\n",
        "print(tf.math.reduce_max(\n",
        "    tensor_two_d, axis=0, keepdims=False, name=None\n",
        "))\n",
        "print(tf.math.reduce_mean(\n",
        "    tensor_two_d, axis=0, keepdims=False, name=None\n",
        "))"
      ],
      "metadata": {
        "colab": {
          "base_uri": "https://localhost:8080/"
        },
        "id": "XUdX7eL_xmA7",
        "outputId": "91ac9abb-71c2-4fa5-fd60-87ca2700d271"
      },
      "execution_count": 16,
      "outputs": [
        {
          "output_type": "stream",
          "name": "stdout",
          "text": [
            "(4, 3)\n",
            "tf.Tensor([  7.  11. 114.], shape=(3,), dtype=float16)\n",
            "tf.Tensor([  3.   5. 100.], shape=(3,), dtype=float16)\n",
            "tf.Tensor([ 1.75  2.75 28.5 ], shape=(3,), dtype=float16)\n"
          ]
        }
      ]
    },
    {
      "cell_type": "code",
      "source": [
        "#Pass the 2D tensor and reduce sum, max\n",
        "print(tf.math.reduce_sum(\n",
        "    tensor_two_d, axis=1, keepdims=False, name=None\n",
        "))\n",
        "print(tf.math.reduce_max(\n",
        "    tensor_two_d, axis=1, keepdims=False, name=None\n",
        "))\n",
        "print(tf.math.reduce_mean(\n",
        "    tensor_two_d, axis=1, keepdims=False, name=None\n",
        "))"
      ],
      "metadata": {
        "colab": {
          "base_uri": "https://localhost:8080/"
        },
        "id": "DN-xJiENy_t6",
        "outputId": "920aeb5c-4e08-49e6-852b-0f2c43948c02"
      },
      "execution_count": 17,
      "outputs": [
        {
          "output_type": "stream",
          "name": "stdout",
          "text": [
            "tf.Tensor([ -1. 108.  12.  13.], shape=(4,), dtype=float16)\n",
            "tf.Tensor([  1. 100.   6.   8.], shape=(4,), dtype=float16)\n",
            "tf.Tensor([-0.3333 36.      4.      4.332 ], shape=(4,), dtype=float16)\n"
          ]
        }
      ]
    },
    {
      "cell_type": "markdown",
      "source": [
        "### Top k values and Linear Algebra Operations\n",
        "\n",
        "We are gonna take a look into some of the most common linear algebra operations, as well as the top k values function."
      ],
      "metadata": {
        "id": "CuS18GudzrG1"
      }
    },
    {
      "cell_type": "code",
      "source": [
        "#First part are the values of top k values\n",
        "#Second part are the indices\n",
        "tf.math.top_k(tensor_two_d, k =2)"
      ],
      "metadata": {
        "colab": {
          "base_uri": "https://localhost:8080/"
        },
        "id": "YQ19mF4OzyMr",
        "outputId": "58154e59-e932-4e79-b833-8e10a352e141"
      },
      "execution_count": 18,
      "outputs": [
        {
          "output_type": "execute_result",
          "data": {
            "text/plain": [
              "TopKV2(values=<tf.Tensor: shape=(4, 2), dtype=float16, numpy=\n",
              "array([[  1.,   0.],\n",
              "       [100.,   5.],\n",
              "       [  6.,   5.],\n",
              "       [  8.,   3.]], dtype=float16)>, indices=<tf.Tensor: shape=(4, 2), dtype=int32, numpy=\n",
              "array([[0, 2],\n",
              "       [2, 1],\n",
              "       [2, 1],\n",
              "       [2, 1]], dtype=int32)>)"
            ]
          },
          "metadata": {},
          "execution_count": 18
        }
      ]
    },
    {
      "cell_type": "markdown",
      "source": [
        "### 2D Tensors Linalg"
      ],
      "metadata": {
        "id": "2KeMaGLs6p8_"
      }
    },
    {
      "cell_type": "code",
      "source": [
        "#Lets define two matrices\n",
        "X_1 = tf.constant([[1,2,0],\n",
        "                  [3,5,-1]])\n",
        "X_2 = tf.constant([[1,2,0, 2],\n",
        "                  [3,5,-1, 2],\n",
        "                  [4,5,6, 0]])\n",
        "X_3 = tf.constant([[1,2,0, 2],\n",
        "                  [3,5,-1, 2]])\n",
        "\n",
        "#Print the shapes\n",
        "print(X_1.shape)\n",
        "print(X_2.shape)\n",
        "print(X_3.shape)\n",
        "\n",
        "tf.linalg.matmul(\n",
        "    X_1,\n",
        "    X_2,\n",
        "    transpose_a=False,\n",
        "    transpose_b=False,\n",
        "    adjoint_a=False,\n",
        "    adjoint_b=False,\n",
        "    a_is_sparse=False,\n",
        "    b_is_sparse=False,\n",
        "    output_type=None,\n",
        "    grad_a=False,\n",
        "    grad_b=False,\n",
        "    name=None\n",
        ")"
      ],
      "metadata": {
        "colab": {
          "base_uri": "https://localhost:8080/"
        },
        "id": "lyTcDlC81FKU",
        "outputId": "c4e1beb0-50fc-4cae-d0df-d4e75d5c2371"
      },
      "execution_count": 19,
      "outputs": [
        {
          "output_type": "stream",
          "name": "stdout",
          "text": [
            "(2, 3)\n",
            "(3, 4)\n",
            "(2, 4)\n"
          ]
        },
        {
          "output_type": "execute_result",
          "data": {
            "text/plain": [
              "<tf.Tensor: shape=(2, 4), dtype=int32, numpy=\n",
              "array([[  7,  12,  -2,   6],\n",
              "       [ 14,  26, -11,  16]], dtype=int32)>"
            ]
          },
          "metadata": {},
          "execution_count": 19
        }
      ]
    },
    {
      "cell_type": "code",
      "source": [
        "#Multiply X_3 and X_2 transposed\n",
        "print(X_3@tf.transpose(X_2))\n",
        "\n",
        "#Do it now with the linalg.matmul\n",
        "tf.linalg.matmul(\n",
        "    X_3,\n",
        "    X_2,\n",
        "    transpose_a=False,\n",
        "    transpose_b=True,\n",
        "    adjoint_a=False,\n",
        "    adjoint_b=False,\n",
        "    a_is_sparse=False,\n",
        "    b_is_sparse=False,\n",
        "    output_type=None,\n",
        "    grad_a=False,\n",
        "    grad_b=False,\n",
        "    name=None\n",
        ")"
      ],
      "metadata": {
        "colab": {
          "base_uri": "https://localhost:8080/"
        },
        "id": "k0mlcQUt6edW",
        "outputId": "97cd72cb-f5ac-45e9-f21e-d2690c5cf86f"
      },
      "execution_count": 20,
      "outputs": [
        {
          "output_type": "stream",
          "name": "stdout",
          "text": [
            "tf.Tensor(\n",
            "[[ 9 17 14]\n",
            " [17 39 31]], shape=(2, 3), dtype=int32)\n"
          ]
        },
        {
          "output_type": "execute_result",
          "data": {
            "text/plain": [
              "<tf.Tensor: shape=(2, 3), dtype=int32, numpy=\n",
              "array([[ 9, 17, 14],\n",
              "       [17, 39, 31]], dtype=int32)>"
            ]
          },
          "metadata": {},
          "execution_count": 20
        }
      ]
    },
    {
      "cell_type": "code",
      "source": [
        "#This is to enable certain numpy behavior\n",
        "import tensorflow.experimental.numpy as tnp\n",
        "tnp.experimental_enable_numpy_behavior()\n",
        "\n",
        "### Get the transpose\n",
        "print(X_1.T)\n",
        "print(X_1@X_2)"
      ],
      "metadata": {
        "colab": {
          "base_uri": "https://localhost:8080/"
        },
        "id": "MSGrEaU_3Jjs",
        "outputId": "578dd792-a2f3-4f6b-983d-641ec6024e4b"
      },
      "execution_count": 21,
      "outputs": [
        {
          "output_type": "stream",
          "name": "stdout",
          "text": [
            "tf.Tensor(\n",
            "[[ 1  3]\n",
            " [ 2  5]\n",
            " [ 0 -1]], shape=(3, 2), dtype=int32)\n",
            "tf.Tensor(\n",
            "[[  7  12  -2   6]\n",
            " [ 14  26 -11  16]], shape=(2, 4), dtype=int32)\n"
          ]
        }
      ]
    },
    {
      "cell_type": "code",
      "source": [
        "#Transpose the matrix X_1 and X_2\n",
        "tf.transpose(X_1)\n",
        "tf.transpose(X_2)"
      ],
      "metadata": {
        "colab": {
          "base_uri": "https://localhost:8080/"
        },
        "id": "bc6Iugcs4Fd_",
        "outputId": "49cce8d6-fd99-473f-9099-3110f2b0d50f"
      },
      "execution_count": 22,
      "outputs": [
        {
          "output_type": "execute_result",
          "data": {
            "text/plain": [
              "<tf.Tensor: shape=(4, 3), dtype=int32, numpy=\n",
              "array([[ 1,  3,  4],\n",
              "       [ 2,  5,  5],\n",
              "       [ 0, -1,  6],\n",
              "       [ 2,  2,  0]], dtype=int32)>"
            ]
          },
          "metadata": {},
          "execution_count": 22
        }
      ]
    },
    {
      "cell_type": "code",
      "source": [
        "print(X_1)\n",
        "print(X_2)"
      ],
      "metadata": {
        "colab": {
          "base_uri": "https://localhost:8080/"
        },
        "id": "94Ps2DpG4MDD",
        "outputId": "22806af2-1fdf-4574-87e5-cabbd4936378"
      },
      "execution_count": 23,
      "outputs": [
        {
          "output_type": "stream",
          "name": "stdout",
          "text": [
            "tf.Tensor(\n",
            "[[ 1  2  0]\n",
            " [ 3  5 -1]], shape=(2, 3), dtype=int32)\n",
            "tf.Tensor(\n",
            "[[ 1  2  0  2]\n",
            " [ 3  5 -1  2]\n",
            " [ 4  5  6  0]], shape=(3, 4), dtype=int32)\n"
          ]
        }
      ]
    },
    {
      "cell_type": "markdown",
      "source": [
        "### 3D Tensors Linalg"
      ],
      "metadata": {
        "id": "pgF8Xdmg6smt"
      }
    },
    {
      "cell_type": "code",
      "source": [
        "#Create a two 3D matrices and perform bathc multiplication\n",
        "X_1 = tf.constant([[[1,2],\n",
        "                  [3,5,]],\n",
        "\n",
        "                  [[10,0],\n",
        "                  [1,2]],\n",
        "\n",
        "                  [[5,8],\n",
        "                  [2,7]],\n",
        "])\n",
        "\n",
        "X_2 = tf.constant([[[5,1,4],\n",
        "                  [34,15,1]],\n",
        "\n",
        "                  [[1,2,2],\n",
        "                  [5,3,2]],\n",
        "\n",
        "                  [[2,2,3],\n",
        "                  [1,1,1]],\n",
        "])\n",
        "\n",
        "#Print the dimensions\n",
        "print(X_1.shape)\n",
        "print(X_2.shape)\n",
        "\n",
        "print(tf.linalg.matmul(X_1, X_2))"
      ],
      "metadata": {
        "colab": {
          "base_uri": "https://localhost:8080/"
        },
        "id": "-otU3AtBxw64",
        "outputId": "0b726931-a412-4184-c248-36e2998a0547"
      },
      "execution_count": 33,
      "outputs": [
        {
          "output_type": "stream",
          "name": "stdout",
          "text": [
            "(3, 2, 2)\n",
            "(3, 2, 3)\n",
            "tf.Tensor(\n",
            "[[[ 73  31   6]\n",
            "  [185  78  17]]\n",
            "\n",
            " [[ 10  20  20]\n",
            "  [ 11   8   6]]\n",
            "\n",
            " [[ 18  18  23]\n",
            "  [ 11  11  13]]], shape=(3, 2, 3), dtype=int32)\n"
          ]
        }
      ]
    },
    {
      "cell_type": "code",
      "source": [
        "#Create a two 3D matrices\n",
        "X_1 = tf.constant([[[10,0],\n",
        "                    [1,2]]])\n",
        "\n",
        "X_2 = tf.constant([[[1,2,2],\n",
        "                    [5,3,2]]])\n",
        "\n",
        "#Print the dimensions\n",
        "print(X_1.shape)\n",
        "print(X_2.shape)\n",
        "\n",
        "print(tf.linalg.matmul(X_1, X_2))"
      ],
      "metadata": {
        "colab": {
          "base_uri": "https://localhost:8080/"
        },
        "id": "CDaO8sqxzn7L",
        "outputId": "bc9a4f0a-fe9e-4091-9529-e59aeeec0ed5"
      },
      "execution_count": 32,
      "outputs": [
        {
          "output_type": "stream",
          "name": "stdout",
          "text": [
            "(1, 2, 2)\n",
            "(1, 2, 3)\n",
            "tf.Tensor(\n",
            "[[[10 20 20]\n",
            "  [11  8  6]]], shape=(1, 2, 3), dtype=int32)\n"
          ]
        }
      ]
    },
    {
      "cell_type": "markdown",
      "source": [
        "### Usage of linalg sparsity with matrices, and bandpart\n"
      ],
      "metadata": {
        "id": "YBTs1vi00XeI"
      }
    },
    {
      "cell_type": "code",
      "source": [
        "#Lets define two sparse matrices\n",
        "X_1 = tf.constant([[0, 0],\n",
        "                  [0, 2]])\n",
        "X_2 = tf.constant([[1,0,0],\n",
        "                  [0,0,0]])\n",
        "\n",
        "#Lets use the sparse argument to optimize its multiplications\n",
        "print(tf.linalg.matmul(X_1, X_2, a_is_sparse=True, b_is_sparse=True))"
      ],
      "metadata": {
        "colab": {
          "base_uri": "https://localhost:8080/"
        },
        "id": "cZeA2mRh0ayx",
        "outputId": "cabbb8cf-1c95-4e56-d50b-7ba0315dbd3d"
      },
      "execution_count": 35,
      "outputs": [
        {
          "output_type": "stream",
          "name": "stdout",
          "text": [
            "tf.Tensor(\n",
            "[[0 0 0]\n",
            " [0 0 0]], shape=(2, 3), dtype=int32)\n"
          ]
        }
      ]
    },
    {
      "cell_type": "code",
      "source": [
        "#Lets define a 2D tensor\n",
        "tensor_two_d = tf.constant([[1,-2, 0],\n",
        "                  [3,5,100],\n",
        "                  [1,5,6],\n",
        "                  [2,3,8]], dtype = tf.float16)\n",
        "\n",
        "#Lets find the band part conditioning on the position index\n",
        "#### (m-n <= lower) && (n-m <= upper)\n",
        "\n",
        "### m -- rows, n -- columns\n",
        "# m-n matrix pos:[[0, -1, -2, -3]\n",
        "#                [1, 0, -1, -2]\n",
        "#                [2, 1, 0, -1]\n",
        "#                [3, 2, 1, 0]],\n",
        "# n-m matrix pos:[[ 0,  1,  2, 3]\n",
        "#                [-1,  0,  1, 2]\n",
        "#                [-2, -1,  0, 1]\n",
        "#                [-3, -2, -1, 0]],\n",
        "\n",
        "#Lets obtain the diagonal matrix\n",
        "print(tf.linalg.band_part(tensor_two_d, 0, 0))\n",
        "\n",
        "#Lets obtain the upper diagonal matrix\n",
        "print(tf.linalg.band_part(tensor_two_d, 0, -1))\n",
        "\n",
        "#Lets obtain the lower diagonal matrix\n",
        "print(tf.linalg.band_part(tensor_two_d, -1, 0))"
      ],
      "metadata": {
        "colab": {
          "base_uri": "https://localhost:8080/"
        },
        "id": "sAgCRO0i1XxT",
        "outputId": "789d93a5-113e-4a65-84fa-5b03f6353b96"
      },
      "execution_count": 43,
      "outputs": [
        {
          "output_type": "stream",
          "name": "stdout",
          "text": [
            "tf.Tensor(\n",
            "[[1. 0. 0.]\n",
            " [0. 5. 0.]\n",
            " [0. 0. 6.]\n",
            " [0. 0. 0.]], shape=(4, 3), dtype=float16)\n",
            "tf.Tensor(\n",
            "[[  1.  -2.   0.]\n",
            " [  0.   5. 100.]\n",
            " [  0.   0.   6.]\n",
            " [  0.   0.   0.]], shape=(4, 3), dtype=float16)\n",
            "tf.Tensor(\n",
            "[[1. 0. 0.]\n",
            " [3. 5. 0.]\n",
            " [1. 5. 6.]\n",
            " [2. 3. 8.]], shape=(4, 3), dtype=float16)\n"
          ]
        }
      ]
    }
  ]
}