{
  "nbformat": 4,
  "nbformat_minor": 0,
  "metadata": {
    "colab": {
      "provenance": [],
      "authorship_tag": "ABX9TyOkp0VYpisU7ZVVMyKAj+aq",
      "include_colab_link": true
    },
    "kernelspec": {
      "name": "python3",
      "display_name": "Python 3"
    },
    "language_info": {
      "name": "python"
    }
  },
  "cells": [
    {
      "cell_type": "markdown",
      "metadata": {
        "id": "view-in-github",
        "colab_type": "text"
      },
      "source": [
        "<a href=\"https://colab.research.google.com/github/juanpajedrez/tensorflow_learning/blob/main/Notebook_3.ipynb\" target=\"_parent\"><img src=\"https://colab.research.google.com/assets/colab-badge.svg\" alt=\"Open In Colab\"/></a>"
      ]
    },
    {
      "cell_type": "code",
      "execution_count": 1,
      "metadata": {
        "id": "ZjOfNu_l0Is5"
      },
      "outputs": [],
      "source": [
        "import tensorflow as tf\n",
        "import numpy as np"
      ]
    },
    {
      "cell_type": "code",
      "source": [
        "# Matrices defined in numpy\n",
        "A = np.array([[2, 6, 5, 2],\n",
        "              [2, -2, 2, 3],\n",
        "              [1, 5, 4, 0]])\n",
        "\n",
        "B = np.array([[2, 9, 0, 3, 0],\n",
        "              [3, 6, 8, -2, 2],\n",
        "              [1, 3, 5, 0, 1],\n",
        "              [3, 0, 2, 0, 5]])"
      ],
      "metadata": {
        "id": "13bIdnhN4DqY"
      },
      "execution_count": 2,
      "outputs": []
    },
    {
      "cell_type": "code",
      "source": [
        "print(A.shape)\n",
        "print(B.shape)"
      ],
      "metadata": {
        "colab": {
          "base_uri": "https://localhost:8080/"
        },
        "id": "kPNY9Mgm4_UM",
        "outputId": "4a9c3d15-237a-4597-c77e-16d0761e0717"
      },
      "execution_count": 3,
      "outputs": [
        {
          "output_type": "stream",
          "name": "stdout",
          "text": [
            "(3, 4)\n",
            "(4, 5)\n"
          ]
        }
      ]
    },
    {
      "cell_type": "code",
      "source": [
        "#Lets print now the matrix multiplication\n",
        "print(np.matmul(A, B))"
      ],
      "metadata": {
        "colab": {
          "base_uri": "https://localhost:8080/"
        },
        "id": "U1ggqdKZ4ieU",
        "outputId": "7c959b10-900f-4d5a-a457-6978a5d17bdb"
      },
      "execution_count": 4,
      "outputs": [
        {
          "output_type": "stream",
          "name": "stdout",
          "text": [
            "[[33 69 77 -6 27]\n",
            " [ 9 12  0 10 13]\n",
            " [21 51 60 -7 14]]\n"
          ]
        }
      ]
    },
    {
      "cell_type": "code",
      "source": [
        "#Lets print now the einsum\n",
        "print(np.einsum(\"ij, jk -> ik\", A, B))"
      ],
      "metadata": {
        "colab": {
          "base_uri": "https://localhost:8080/"
        },
        "id": "XqxeZdTi4vVL",
        "outputId": "3c3d75b2-eed6-4c80-d6a8-5c73d3bd5935"
      },
      "execution_count": 5,
      "outputs": [
        {
          "output_type": "stream",
          "name": "stdout",
          "text": [
            "[[33 69 77 -6 27]\n",
            " [ 9 12  0 10 13]\n",
            " [21 51 60 -7 14]]\n"
          ]
        }
      ]
    },
    {
      "cell_type": "markdown",
      "source": [
        "### Lets look how to use einsum for element wise multiplication"
      ],
      "metadata": {
        "id": "H-pIKx6H5uLj"
      }
    },
    {
      "cell_type": "code",
      "source": [
        "#Make sure the matrices are the same shape\n",
        "A = np.array([[2, 6, 5, 2],\n",
        "              [2, -2, 2, 3],\n",
        "              [1, 5, 4, 0]])\n",
        "\n",
        "B = np.array([[2, 9, 0, 3],\n",
        "              [3, 6, 8, -2],\n",
        "              [1, 3, 5, 0]])\n",
        "print(A.shape)\n",
        "print(B.shape)"
      ],
      "metadata": {
        "colab": {
          "base_uri": "https://localhost:8080/"
        },
        "id": "jxTURb0D5yyI",
        "outputId": "93b18a69-ae97-4ad8-9488-f0299216ff77"
      },
      "execution_count": 6,
      "outputs": [
        {
          "output_type": "stream",
          "name": "stdout",
          "text": [
            "(3, 4)\n",
            "(3, 4)\n"
          ]
        }
      ]
    },
    {
      "cell_type": "code",
      "source": [
        "#Use numpy for element wise multiplication\n",
        "print(A*B)"
      ],
      "metadata": {
        "colab": {
          "base_uri": "https://localhost:8080/"
        },
        "id": "PcljH3Ef6DFR",
        "outputId": "d65b59f9-12e2-4c0b-81bc-4c1c99354a62"
      },
      "execution_count": 7,
      "outputs": [
        {
          "output_type": "stream",
          "name": "stdout",
          "text": [
            "[[  4  54   0   6]\n",
            " [  6 -12  16  -6]\n",
            " [  1  15  20   0]]\n"
          ]
        }
      ]
    },
    {
      "cell_type": "code",
      "source": [
        "#Use einsum for element wise multiplication\n",
        "print(np.einsum(\"ij, ij -> ij\", A, B))"
      ],
      "metadata": {
        "colab": {
          "base_uri": "https://localhost:8080/"
        },
        "id": "YCZ_IPr96H0d",
        "outputId": "ad363cfc-062e-4b86-d249-f7d461384c69"
      },
      "execution_count": 8,
      "outputs": [
        {
          "output_type": "stream",
          "name": "stdout",
          "text": [
            "[[  4  54   0   6]\n",
            " [  6 -12  16  -6]\n",
            " [  1  15  20   0]]\n"
          ]
        }
      ]
    },
    {
      "cell_type": "markdown",
      "source": [
        "### Lets do the einsum for the matrix transpose"
      ],
      "metadata": {
        "id": "ZXd0v2Qp6hXU"
      }
    },
    {
      "cell_type": "code",
      "source": [
        "A = np.array([[2, 6, 5, 2],\n",
        "              [2, -2, 2, 3],\n",
        "              [1, 5, 4, 0]])\n",
        "#Print the A transpose of this\n",
        "print(A.T)"
      ],
      "metadata": {
        "colab": {
          "base_uri": "https://localhost:8080/"
        },
        "id": "IQ5c5nkA6nLZ",
        "outputId": "5b0c97f9-2ed9-4726-c7ce-f72deef58839"
      },
      "execution_count": 9,
      "outputs": [
        {
          "output_type": "stream",
          "name": "stdout",
          "text": [
            "[[ 2  2  1]\n",
            " [ 6 -2  5]\n",
            " [ 5  2  4]\n",
            " [ 2  3  0]]\n"
          ]
        }
      ]
    },
    {
      "cell_type": "code",
      "source": [
        "# Now using the einsum\n",
        "print(np.einsum(\"ij -> ji\", A))"
      ],
      "metadata": {
        "colab": {
          "base_uri": "https://localhost:8080/"
        },
        "id": "OLYXktze6uHe",
        "outputId": "be7454d0-4835-4b83-96f8-6bdd5ab12a88"
      },
      "execution_count": 10,
      "outputs": [
        {
          "output_type": "stream",
          "name": "stdout",
          "text": [
            "[[ 2  2  1]\n",
            " [ 6 -2  5]\n",
            " [ 5  2  4]\n",
            " [ 2  3  0]]\n"
          ]
        }
      ]
    },
    {
      "cell_type": "markdown",
      "source": [
        "### Lets perform summing across specific dimensions"
      ],
      "metadata": {
        "id": "fSLzEeaM-3zY"
      }
    },
    {
      "cell_type": "code",
      "source": [
        "A = np.array([[2, 6, 5, 2],\n",
        "              [2, -2, 2, 3],\n",
        "              [1, 5, 4, 0]])\n",
        "\n",
        "#Using numpy\n",
        "print(np.sum(A, axis = 0))\n",
        "\n",
        "#Now using einsum\n",
        "print(np.einsum(\"ij -> j\", A))"
      ],
      "metadata": {
        "colab": {
          "base_uri": "https://localhost:8080/"
        },
        "id": "HVicsLX9-662",
        "outputId": "7b7bed91-45b1-4bd0-a18b-e2a355749434"
      },
      "execution_count": 11,
      "outputs": [
        {
          "output_type": "stream",
          "name": "stdout",
          "text": [
            "[ 5  9 11  5]\n",
            "[ 5  9 11  5]\n"
          ]
        }
      ]
    },
    {
      "cell_type": "code",
      "source": [
        "#Using numpy\n",
        "print(np.sum(A, axis = 1))\n",
        "\n",
        "#Now using einsum\n",
        "print(np.einsum(\"ij -> i\", A))"
      ],
      "metadata": {
        "colab": {
          "base_uri": "https://localhost:8080/"
        },
        "id": "jlhrrO05_LaH",
        "outputId": "9ad51293-1759-40ea-a4b7-71c0906aa7f7"
      },
      "execution_count": 12,
      "outputs": [
        {
          "output_type": "stream",
          "name": "stdout",
          "text": [
            "[15  5 10]\n",
            "[15  5 10]\n"
          ]
        }
      ]
    },
    {
      "cell_type": "markdown",
      "source": [],
      "metadata": {
        "id": "VvP-GXO5_KoG"
      }
    },
    {
      "cell_type": "markdown",
      "source": [
        "### LETS NOW apply all of these principles for 3D arrays"
      ],
      "metadata": {
        "id": "6E1JmHGZ7xFG"
      }
    },
    {
      "cell_type": "code",
      "source": [
        "#Lets crete two 3D arrays\n",
        "A = np.array([\n",
        "      [[2, 6, 5, 2],\n",
        "       [2, -2, 2, 3],\n",
        "       [1, 5, 4, 0]],\n",
        "\n",
        "      [[1, 3, 1, 22],\n",
        "       [0, 2, 2, 0],\n",
        "       [1, 5, 4, 1]]])\n",
        "B = np.array([\n",
        "      [[2, 9, 0, 3, 0],\n",
        "       [3, 6, 8, -2, 2],\n",
        "       [1, 3, 5, 0, 1],\n",
        "       [3, 0, 2, 0, 5]],\n",
        "\n",
        "      [[1, 0, 0, 3, 0],\n",
        "       [3, 0, 4, -2, 2],\n",
        "       [1, 0, 2, 0, 0],\n",
        "       [3, 0, 1, 1, 0]]])"
      ],
      "metadata": {
        "id": "k4zTACjo8Rds"
      },
      "execution_count": 13,
      "outputs": []
    },
    {
      "cell_type": "code",
      "source": [
        "#Lets see the shape\n",
        "#b -> Batch size,\n",
        "#j -> Columns\n",
        "#i -> Rows\n",
        "\n",
        "print(A.shape)\n",
        "print(B.shape)"
      ],
      "metadata": {
        "colab": {
          "base_uri": "https://localhost:8080/"
        },
        "id": "O0WxZnKk9Lhb",
        "outputId": "15a0c9ba-5966-4b64-dc84-22fb700192b9"
      },
      "execution_count": 14,
      "outputs": [
        {
          "output_type": "stream",
          "name": "stdout",
          "text": [
            "(2, 3, 4)\n",
            "(2, 4, 5)\n"
          ]
        }
      ]
    },
    {
      "cell_type": "code",
      "source": [
        "# Lets print the batch matrix multiplication\n",
        "print(np.matmul(A, B))\n"
      ],
      "metadata": {
        "colab": {
          "base_uri": "https://localhost:8080/"
        },
        "id": "bZCy-fjM9IPH",
        "outputId": "e63d999d-d1af-4697-b5a7-e6e31b636738"
      },
      "execution_count": 15,
      "outputs": [
        {
          "output_type": "stream",
          "name": "stdout",
          "text": [
            "[[[33 69 77 -6 27]\n",
            "  [ 9 12  0 10 13]\n",
            "  [21 51 60 -7 14]]\n",
            "\n",
            " [[77  0 36 19  6]\n",
            "  [ 8  0 12 -4  4]\n",
            "  [23  0 29 -6 10]]]\n"
          ]
        }
      ]
    },
    {
      "cell_type": "code",
      "source": [
        "# Now lets do it with einsum\n",
        "print(np.einsum(\"bij, bjk -> bik\", A, B))"
      ],
      "metadata": {
        "colab": {
          "base_uri": "https://localhost:8080/"
        },
        "id": "Kh7ba-469Ywx",
        "outputId": "5df9400e-f303-47b4-c278-df094de91c3e"
      },
      "execution_count": 16,
      "outputs": [
        {
          "output_type": "stream",
          "name": "stdout",
          "text": [
            "[[[33 69 77 -6 27]\n",
            "  [ 9 12  0 10 13]\n",
            "  [21 51 60 -7 14]]\n",
            "\n",
            " [[77  0 36 19  6]\n",
            "  [ 8  0 12 -4  4]\n",
            "  [23  0 29 -6 10]]]\n"
          ]
        }
      ]
    },
    {
      "cell_type": "markdown",
      "source": [
        "### Lets perform the SUM of all"
      ],
      "metadata": {
        "id": "sowszbOD9-3A"
      }
    },
    {
      "cell_type": "code",
      "source": [
        "#Lets crete two 3D arrays\n",
        "A = np.array([\n",
        "      [[2, 6, 5, 2],\n",
        "       [2, -2, 2, 3],\n",
        "       [1, 5, 4, 0]],\n",
        "\n",
        "      [[1, 3, 1, 22],\n",
        "       [0, 2, 2, 0],\n",
        "       [1, 5, 4, 1]]])"
      ],
      "metadata": {
        "id": "td8zjM2g-FB6"
      },
      "execution_count": 17,
      "outputs": []
    },
    {
      "cell_type": "code",
      "source": [
        "#Using numpy\n",
        "print(np.sum(A))"
      ],
      "metadata": {
        "colab": {
          "base_uri": "https://localhost:8080/"
        },
        "id": "oBD355UA-KlR",
        "outputId": "7560582a-6049-4efc-ed4f-a5e58e2709e4"
      },
      "execution_count": 18,
      "outputs": [
        {
          "output_type": "stream",
          "name": "stdout",
          "text": [
            "72\n"
          ]
        }
      ]
    },
    {
      "cell_type": "code",
      "source": [
        "#Using np.einsum\n",
        "print(np.einsum(\"bij ->\", A))"
      ],
      "metadata": {
        "colab": {
          "base_uri": "https://localhost:8080/"
        },
        "id": "VNv6arCs-Oji",
        "outputId": "261d13cb-71eb-424c-acac-fa4e71e22d4b"
      },
      "execution_count": 19,
      "outputs": [
        {
          "output_type": "stream",
          "name": "stdout",
          "text": [
            "72\n"
          ]
        }
      ]
    },
    {
      "cell_type": "markdown",
      "source": [
        "### Attention calculation: K and Q\n",
        "Simulating the Key and Q calculation for attention, we would use the np.einsum for this."
      ],
      "metadata": {
        "id": "rzG-IPd3_nTd"
      }
    },
    {
      "cell_type": "code",
      "source": [
        "# Q = batchsize, s_q, modelsize\n",
        "# K = batchsize, s_k, modelsize\n",
        "\n",
        "#s_q = sequence length q\n",
        "#s_k = sequence length k"
      ],
      "metadata": {
        "id": "9599PyVQ_ynQ"
      },
      "execution_count": 20,
      "outputs": []
    },
    {
      "cell_type": "code",
      "source": [
        "Q = np.random.randn(32, 64, 512) #b, q, m shape\n",
        "K = np.random.randn(32, 128, 512) #b, k, m shape"
      ],
      "metadata": {
        "id": "WxXVEcOh_8Rn"
      },
      "execution_count": 21,
      "outputs": []
    },
    {
      "cell_type": "code",
      "source": [
        "### Obtain the Key transpose SPECIFIC to cols and rows\n",
        "K_transpose = np.einsum(\"bkm -> bmk\", K)"
      ],
      "metadata": {
        "id": "vodj5LDCAOgw"
      },
      "execution_count": 26,
      "outputs": []
    },
    {
      "cell_type": "code",
      "source": [
        "# Now do the np.einsum (BOTH with Q and K directly and transpose)\n",
        "# bqm @ bmk -> (qm) * (mk) while the b are the same.\n",
        "print(np.einsum(\"bqm, bmk -> bqk\", Q, K_transpose).shape)"
      ],
      "metadata": {
        "colab": {
          "base_uri": "https://localhost:8080/"
        },
        "id": "nKdBrDciADV3",
        "outputId": "80df0be3-f897-41a7-f99e-362906ead988"
      },
      "execution_count": 23,
      "outputs": [
        {
          "output_type": "stream",
          "name": "stdout",
          "text": [
            "(32, 64, 128)\n"
          ]
        }
      ]
    },
    {
      "cell_type": "code",
      "source": [
        "# Now do the np.einsum (BOTH with Q and K directly and transpose)\n",
        "print(np.einsum(\"bqm, bkm -> bqk\", Q, K).shape)"
      ],
      "metadata": {
        "colab": {
          "base_uri": "https://localhost:8080/"
        },
        "id": "IhiJcM3sAppO",
        "outputId": "04570dc4-4ac3-4263-a2f0-3b9786aafd61"
      },
      "execution_count": 24,
      "outputs": [
        {
          "output_type": "stream",
          "name": "stdout",
          "text": [
            "(32, 64, 128)\n"
          ]
        }
      ]
    },
    {
      "cell_type": "markdown",
      "source": [
        "### Efficient transformer: Attention based on specific and previous chunks."
      ],
      "metadata": {
        "id": "GF_1Y85UHQst"
      }
    },
    {
      "cell_type": "code",
      "source": [
        "#Lets simulate what happens when splitting chunks into smaller chunks for\n",
        "#attention in an efficient transformer. First thing is to simulate data\n",
        "A = np.random.randn(2, 4, 8)\n",
        "B = np.random.randn(2, 4, 4)"
      ],
      "metadata": {
        "id": "JuAkqO9aIaND"
      },
      "execution_count": 27,
      "outputs": []
    },
    {
      "cell_type": "code",
      "source": [
        "# First, lets split them (simulating chunk transformer splitting, into smaller\n",
        "# chunks).\n",
        "A = np.reshape(A, (2, 4, 4, 2)) # Dimensions bcij\n",
        "B = np.reshape(B, (2, 4, 4, 1)) # Dimensions bcik"
      ],
      "metadata": {
        "id": "QQBqiTFGKBHl"
      },
      "execution_count": 31,
      "outputs": []
    },
    {
      "cell_type": "code",
      "source": [
        "#Transpose B accordingly\n",
        "B_transpose = np.einsum(\"bcik -> bcki\", B)"
      ],
      "metadata": {
        "id": "hNYh06KqKpqB"
      },
      "execution_count": 39,
      "outputs": []
    },
    {
      "cell_type": "markdown",
      "source": [],
      "metadata": {
        "id": "fQUJpLHGKo9I"
      }
    },
    {
      "cell_type": "code",
      "source": [
        "# Now lets use the einsum\n",
        "print(np.einsum(\"bcik, bcij -> bckj\", B, A).shape)\n",
        "print(np.einsum(\"bcki, bcij -> bckj\", B_transpose, A).shape)"
      ],
      "metadata": {
        "colab": {
          "base_uri": "https://localhost:8080/"
        },
        "id": "GDt8hF9mKVpU",
        "outputId": "6ce16ff2-064f-4717-c162-023999d050ac"
      },
      "execution_count": 36,
      "outputs": [
        {
          "output_type": "stream",
          "name": "stdout",
          "text": [
            "(2, 4, 1, 2)\n",
            "(2, 4, 1, 2)\n"
          ]
        }
      ]
    },
    {
      "cell_type": "code",
      "source": [
        "#Lets now do it with np.... this is hectic\n",
        "np.matmul(np.transpose(B, (0, 1, 3, 2)), A).shape"
      ],
      "metadata": {
        "colab": {
          "base_uri": "https://localhost:8080/"
        },
        "id": "j_GVEvFQKgN1",
        "outputId": "47fc4e22-9506-4cd9-ef6a-3dd572cc5a4b"
      },
      "execution_count": 38,
      "outputs": [
        {
          "output_type": "execute_result",
          "data": {
            "text/plain": [
              "(2, 4, 1, 2)"
            ]
          },
          "metadata": {},
          "execution_count": 38
        }
      ]
    }
  ]
}