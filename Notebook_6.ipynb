{
  "nbformat": 4,
  "nbformat_minor": 0,
  "metadata": {
    "colab": {
      "provenance": [],
      "gpuType": "T4",
      "authorship_tag": "ABX9TyP8OrkJ7GxVyQJHqhefvf/J",
      "include_colab_link": true
    },
    "kernelspec": {
      "name": "python3",
      "display_name": "Python 3"
    },
    "language_info": {
      "name": "python"
    },
    "accelerator": "GPU"
  },
  "cells": [
    {
      "cell_type": "markdown",
      "metadata": {
        "id": "view-in-github",
        "colab_type": "text"
      },
      "source": [
        "<a href=\"https://colab.research.google.com/github/juanpajedrez/tensorflow_learning/blob/main/Notebook_6.ipynb\" target=\"_parent\"><img src=\"https://colab.research.google.com/assets/colab-badge.svg\" alt=\"Open In Colab\"/></a>"
      ]
    },
    {
      "cell_type": "markdown",
      "source": [
        "### Tensorflow: Variables\n",
        "Here we will take a look into defining tensorflow variables to make them work.\n",
        "\n"
      ],
      "metadata": {
        "id": "UkH-HjIuMC44"
      }
    },
    {
      "cell_type": "code",
      "execution_count": 1,
      "metadata": {
        "id": "Kof1OT2JKPLL"
      },
      "outputs": [],
      "source": [
        "# Import tensorflow as a module\n",
        "import tensorflow as tf"
      ]
    },
    {
      "cell_type": "code",
      "source": [
        "# Create a tensorflow variable\n",
        "x = tf.constant([1, 2])"
      ],
      "metadata": {
        "id": "ij87RptgMNRS"
      },
      "execution_count": 2,
      "outputs": []
    },
    {
      "cell_type": "code",
      "source": [
        "# Create a variable\n",
        "# trainable parameters allows for updating vars with gradients\n",
        "x_var = tf.Variable(x, \"var1\")\n",
        "print(x_var)"
      ],
      "metadata": {
        "colab": {
          "base_uri": "https://localhost:8080/"
        },
        "id": "B0gMjiTBMPj-",
        "outputId": "82315b6e-a5af-4835-d71a-8267bc0393b7"
      },
      "execution_count": 3,
      "outputs": [
        {
          "output_type": "stream",
          "name": "stdout",
          "text": [
            "<tf.Variable 'Variable:0' shape=(2,) dtype=int32, numpy=array([1, 2], dtype=int32)>\n"
          ]
        }
      ]
    },
    {
      "cell_type": "code",
      "source": [
        "# Lets do some subtraction across the variable\n",
        "# THIS IS SAVED IN HISTORY\n",
        "x_var.assign_add([5, 10])"
      ],
      "metadata": {
        "colab": {
          "base_uri": "https://localhost:8080/"
        },
        "id": "miiTMi8ATA8B",
        "outputId": "646c7293-3227-4f83-d3d6-25c3917ed52c"
      },
      "execution_count": 4,
      "outputs": [
        {
          "output_type": "execute_result",
          "data": {
            "text/plain": [
              "<tf.Variable 'UnreadVariable' shape=(2,) dtype=int32, numpy=array([ 6, 12], dtype=int32)>"
            ]
          },
          "metadata": {},
          "execution_count": 4
        }
      ]
    },
    {
      "cell_type": "markdown",
      "source": [
        "### Lets select a specific device and use it!"
      ],
      "metadata": {
        "id": "NTRUI6YxT3lt"
      }
    },
    {
      "cell_type": "code",
      "source": [
        "#Using a with statement, you can select specific device\n",
        "with tf.device('CPU:0'):\n",
        "  x_1 = tf.constant([1,3,4])\n",
        "  x_2 = tf.constant([1])\n",
        "\n",
        "with tf.device('GPU:0'):\n",
        "  x_3 = tf.constant(x_1 + x_2)\n",
        "\n",
        "#Lets take a look at the devices\n",
        "print(x_1, x_1.device)\n",
        "print(x_2, x_2.device)\n",
        "print(x_3, x_3.device)"
      ],
      "metadata": {
        "colab": {
          "base_uri": "https://localhost:8080/"
        },
        "id": "q23j9TmNT2_M",
        "outputId": "49a68895-1795-4404-f044-d766e29c4064"
      },
      "execution_count": 5,
      "outputs": [
        {
          "output_type": "stream",
          "name": "stdout",
          "text": [
            "tf.Tensor([1 3 4], shape=(3,), dtype=int32) /job:localhost/replica:0/task:0/device:CPU:0\n",
            "tf.Tensor([1], shape=(1,), dtype=int32) /job:localhost/replica:0/task:0/device:CPU:0\n",
            "tf.Tensor([2 4 5], shape=(3,), dtype=int32) /job:localhost/replica:0/task:0/device:GPU:0\n"
          ]
        }
      ]
    }
  ]
}