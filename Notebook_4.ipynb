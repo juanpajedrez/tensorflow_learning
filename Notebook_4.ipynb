{
  "nbformat": 4,
  "nbformat_minor": 0,
  "metadata": {
    "colab": {
      "provenance": [],
      "authorship_tag": "ABX9TyOQjyoTfGnaNvuqUWah7uen",
      "include_colab_link": true
    },
    "kernelspec": {
      "name": "python3",
      "display_name": "Python 3"
    },
    "language_info": {
      "name": "python"
    }
  },
  "cells": [
    {
      "cell_type": "markdown",
      "metadata": {
        "id": "view-in-github",
        "colab_type": "text"
      },
      "source": [
        "<a href=\"https://colab.research.google.com/github/juanpajedrez/tensorflow_learning/blob/main/Notebook_4.ipynb\" target=\"_parent\"><img src=\"https://colab.research.google.com/assets/colab-badge.svg\" alt=\"Open In Colab\"/></a>"
      ]
    },
    {
      "cell_type": "markdown",
      "source": [
        "# Important functions tensorflow\n",
        "This jupyter notebook contains some of the most common used tensorflow functions that can be used for performing important tasks."
      ],
      "metadata": {
        "id": "6ScD-x_3M6FT"
      }
    },
    {
      "cell_type": "code",
      "source": [
        "import tensorflow as tf"
      ],
      "metadata": {
        "id": "hsJj---5NWWr"
      },
      "execution_count": 1,
      "outputs": []
    },
    {
      "cell_type": "code",
      "source": [
        "# Lets simulate a tensor 3D\n",
        "tensor_three_d = tf.constant([[[1, 2, 0],\n",
        "                              [3, 5, -1]],\n",
        "\n",
        "                             [[10, 2, 0],\n",
        "                              [1, 0, 2]],\n",
        "\n",
        "                             [[5, 8, 0],\n",
        "                              [2, 7, 0]],\n",
        "\n",
        "                             [[2, 1, 9],\n",
        "                              [4, 3, 32]]])\n",
        "\n",
        "#Lets see the shape\n",
        "print(tensor_three_d.shape)"
      ],
      "metadata": {
        "colab": {
          "base_uri": "https://localhost:8080/"
        },
        "id": "RC7GTmOZNSKy",
        "outputId": "2124916b-f7b9-4500-fa15-6455498fc711"
      },
      "execution_count": 2,
      "outputs": [
        {
          "output_type": "stream",
          "name": "stdout",
          "text": [
            "(4, 2, 3)\n"
          ]
        }
      ]
    },
    {
      "cell_type": "markdown",
      "source": [
        "### tensorflow: expand dimension\n",
        "\n",
        "lets see its effects on 1D, 2D and 3D tensors"
      ],
      "metadata": {
        "id": "qzabGxsBOAxr"
      }
    },
    {
      "cell_type": "code",
      "source": [
        "#Showcasing how to expand dimensions\n",
        "print(tf.expand_dims(tensor_three_d, axis = 0).shape)"
      ],
      "metadata": {
        "colab": {
          "base_uri": "https://localhost:8080/"
        },
        "id": "B_YcActmNbmb",
        "outputId": "046f94db-3a11-4fde-a9b1-a215f741543b"
      },
      "execution_count": 3,
      "outputs": [
        {
          "output_type": "stream",
          "name": "stdout",
          "text": [
            "(1, 4, 2, 3)\n"
          ]
        }
      ]
    },
    {
      "cell_type": "code",
      "source": [
        "#Lets see the effect on a 1D tensorflow array shape\n",
        "x = tf.constant([2, 3, 4, 5])\n",
        "\n",
        "#Lets see the shapes\n",
        "print(x.shape)\n",
        "print(tf.expand_dims(x, axis = 0).shape)"
      ],
      "metadata": {
        "colab": {
          "base_uri": "https://localhost:8080/"
        },
        "id": "fEcethuQOLgM",
        "outputId": "d1f407fe-cc77-4e4b-a8ba-8db2af8c8aee"
      },
      "execution_count": 4,
      "outputs": [
        {
          "output_type": "stream",
          "name": "stdout",
          "text": [
            "(4,)\n",
            "(1, 4)\n"
          ]
        }
      ]
    },
    {
      "cell_type": "code",
      "source": [
        "#Showcasing how to expand dimensions from 3D to 4D dimensions\n",
        "print(tensor_three_d.shape)\n",
        "print(tf.expand_dims(tensor_three_d, axis = 1).shape)"
      ],
      "metadata": {
        "colab": {
          "base_uri": "https://localhost:8080/"
        },
        "id": "R6CqLwNJOymn",
        "outputId": "ea0e9660-ad8e-4a7f-e28b-875c231c99e3"
      },
      "execution_count": 5,
      "outputs": [
        {
          "output_type": "stream",
          "name": "stdout",
          "text": [
            "(4, 2, 3)\n",
            "(4, 1, 2, 3)\n"
          ]
        }
      ]
    },
    {
      "cell_type": "markdown",
      "source": [
        "### tensorflow: squeeze method\n",
        "Lets see the opposite of expand_dimensions! this is the squeeze method"
      ],
      "metadata": {
        "id": "35r3i3i6PDZj"
      }
    },
    {
      "cell_type": "code",
      "source": [
        "#Lets see the effects on small example\n",
        "x = tf.constant([[[[2, 3, 4, 5]]]])\n",
        "print(x.shape)\n",
        "x_expanded = tf.squeeze(x, axis = 0)\n",
        "print(x_expanded.shape)"
      ],
      "metadata": {
        "colab": {
          "base_uri": "https://localhost:8080/"
        },
        "id": "Zm6hLmMMPRU4",
        "outputId": "19899bcd-9250-4790-e7b0-e457c2710339"
      },
      "execution_count": 6,
      "outputs": [
        {
          "output_type": "stream",
          "name": "stdout",
          "text": [
            "(1, 1, 1, 4)\n",
            "(1, 1, 4)\n"
          ]
        }
      ]
    },
    {
      "cell_type": "code",
      "source": [
        "for i in range(2):\n",
        "  # Get the shapes as you keep squeezing in the first dim\n",
        "  x_squeezed = tf.squeeze(x_expanded, axis = 0)\n",
        "  print(x_squeezed.shape)\n",
        "\n",
        "  #Update the x_expanded\n",
        "  x_expanded = x_squeezed"
      ],
      "metadata": {
        "colab": {
          "base_uri": "https://localhost:8080/"
        },
        "id": "ZyyvC4WFPsf-",
        "outputId": "19e81569-485c-4bdd-9ea2-7610e3c2767b"
      },
      "execution_count": 7,
      "outputs": [
        {
          "output_type": "stream",
          "name": "stdout",
          "text": [
            "(1, 4)\n",
            "(4,)\n"
          ]
        }
      ]
    },
    {
      "cell_type": "code",
      "source": [
        "# Lets see squeeze for 3D tensors\n",
        "tensor_three_d = tf.constant([[[1, 2, 0],\n",
        "                              [3, 5, -1]],\n",
        "\n",
        "                             [[10, 2, 0],\n",
        "                              [1, 0, 2]],\n",
        "\n",
        "                             [[5, 8, 0],\n",
        "                              [2, 7, 0]],\n",
        "\n",
        "                             [[2, 1, 9],\n",
        "                              [4, 3, 32]]])\n",
        "\n",
        "#Lets see the shape\n",
        "print(tensor_three_d.shape)"
      ],
      "metadata": {
        "colab": {
          "base_uri": "https://localhost:8080/"
        },
        "id": "dSdQaDvmQH3z",
        "outputId": "55f349c2-1358-485e-fa06-4e6451e3d71d"
      },
      "execution_count": 8,
      "outputs": [
        {
          "output_type": "stream",
          "name": "stdout",
          "text": [
            "(4, 2, 3)\n"
          ]
        }
      ]
    },
    {
      "cell_type": "code",
      "source": [
        "# Lets expand dimensions for the last dim\n",
        "x_exp = tf.expand_dims(tensor_three_d, axis = 3)\n",
        "print(x_exp.shape)\n",
        "\n",
        "#Now lets see the effect of squeeze in third axis\n",
        "print(tf.squeeze(x_exp, axis = 3).shape)"
      ],
      "metadata": {
        "colab": {
          "base_uri": "https://localhost:8080/"
        },
        "id": "J103I5-iQMVV",
        "outputId": "a733bd89-5e49-4b79-f564-739a5ee592f3"
      },
      "execution_count": 9,
      "outputs": [
        {
          "output_type": "stream",
          "name": "stdout",
          "text": [
            "(4, 2, 3, 1)\n",
            "(4, 2, 3)\n"
          ]
        }
      ]
    },
    {
      "cell_type": "markdown",
      "source": [
        "### tensorflow: reshape method\n",
        "This is a mostly used method for reshaping tensors; lets take a look!"
      ],
      "metadata": {
        "id": "8C-Fii4KRRkj"
      }
    },
    {
      "cell_type": "code",
      "source": [
        "# Continuing from the previous x_exp, lets see the effects of reshape\n",
        "print(tf.reshape(x_exp, [4, 2, 3]).shape)"
      ],
      "metadata": {
        "colab": {
          "base_uri": "https://localhost:8080/"
        },
        "id": "R_AE6o7aReIB",
        "outputId": "22201cb9-f03f-499b-a3c8-fad6479d5c50"
      },
      "execution_count": 10,
      "outputs": [
        {
          "output_type": "stream",
          "name": "stdout",
          "text": [
            "(4, 2, 3)\n"
          ]
        }
      ]
    },
    {
      "cell_type": "code",
      "source": [
        "# Lets check if the outputs are the same\n",
        "tf.reshape(x_exp, [4, 2, 3]) == tf.squeeze(x_exp, axis = 3)"
      ],
      "metadata": {
        "colab": {
          "base_uri": "https://localhost:8080/"
        },
        "id": "eqPiXf4GRszC",
        "outputId": "ec004a04-a30c-4b1f-8666-62c9d261f07b"
      },
      "execution_count": 11,
      "outputs": [
        {
          "output_type": "execute_result",
          "data": {
            "text/plain": [
              "<tf.Tensor: shape=(4, 2, 3), dtype=bool, numpy=\n",
              "array([[[ True,  True,  True],\n",
              "        [ True,  True,  True]],\n",
              "\n",
              "       [[ True,  True,  True],\n",
              "        [ True,  True,  True]],\n",
              "\n",
              "       [[ True,  True,  True],\n",
              "        [ True,  True,  True]],\n",
              "\n",
              "       [[ True,  True,  True],\n",
              "        [ True,  True,  True]]])>"
            ]
          },
          "metadata": {},
          "execution_count": 11
        }
      ]
    },
    {
      "cell_type": "code",
      "source": [
        "# Now lets see another case in general, FIT in number of weights\n",
        "x_reshape = tf.constant([[3,5,6,6],\n",
        "                         [4,6,-1,2]])\n",
        "\n",
        "# THIS IS not the transpose as you see\n",
        "tf.reshape(x_reshape, [4, 2])\n",
        "tf.reshape(x_reshape, [4, -1])"
      ],
      "metadata": {
        "colab": {
          "base_uri": "https://localhost:8080/"
        },
        "id": "8qD0m15YR4x1",
        "outputId": "981c6f8b-0db1-4b85-9679-b9c177ea4e77"
      },
      "execution_count": 12,
      "outputs": [
        {
          "output_type": "execute_result",
          "data": {
            "text/plain": [
              "<tf.Tensor: shape=(4, 2), dtype=int32, numpy=\n",
              "array([[ 3,  5],\n",
              "       [ 6,  6],\n",
              "       [ 4,  6],\n",
              "       [-1,  2]], dtype=int32)>"
            ]
          },
          "metadata": {},
          "execution_count": 12
        }
      ]
    },
    {
      "cell_type": "markdown",
      "source": [
        "### tensorflow: Concatenation function.\n",
        "This is a method that concatanates the tensors, without having to add a new axis."
      ],
      "metadata": {
        "id": "PFmjQd4gTneY"
      }
    },
    {
      "cell_type": "code",
      "source": [
        "# t1 and t2 tensors\n",
        "t1 = [[1, 2, 3],\n",
        "      [4, 5, 6]]\n",
        "\n",
        "t2 = [[7, 8, 9],\n",
        "      [10, 11, 12]]\n",
        "\n",
        "# Lets see the shape of each of the tensors\n",
        "print(tf.constant(t1).shape)\n",
        "print(tf.constant(t2).shape)\n",
        "\n",
        "#Lets see the concatanetion across the rows\n",
        "print(tf.concat([t1, t2], axis = 0))\n",
        "\n",
        "#Lets see the concatanetion across the cols\n",
        "print(tf.concat([t1, t2], axis = 1))\n"
      ],
      "metadata": {
        "colab": {
          "base_uri": "https://localhost:8080/"
        },
        "id": "RToBUIPIT4SY",
        "outputId": "133727bb-3a1a-4f06-924a-5c5921eae2f3"
      },
      "execution_count": 13,
      "outputs": [
        {
          "output_type": "stream",
          "name": "stdout",
          "text": [
            "(2, 3)\n",
            "(2, 3)\n",
            "tf.Tensor(\n",
            "[[ 1  2  3]\n",
            " [ 4  5  6]\n",
            " [ 7  8  9]\n",
            " [10 11 12]], shape=(4, 3), dtype=int32)\n",
            "tf.Tensor(\n",
            "[[ 1  2  3  7  8  9]\n",
            " [ 4  5  6 10 11 12]], shape=(2, 6), dtype=int32)\n"
          ]
        }
      ]
    },
    {
      "cell_type": "code",
      "source": [
        "# t1 and t2 tensors in 3D format\n",
        "t1 = [[[1, 2, 3],\n",
        "      [4, 5, 6]]]\n",
        "\n",
        "t2 = [[[7, 8, 9],\n",
        "      [10, 11, 12]]]\n",
        "\n",
        "# Lets see the shape of each of the tensors\n",
        "print(tf.constant(t1).shape)\n",
        "print(tf.constant(t2).shape)\n",
        "\n",
        "#Lets see the concatanetion across axis zero, fixes 0 axis\n",
        "print(tf.concat([t1, t2], axis = 0))\n"
      ],
      "metadata": {
        "colab": {
          "base_uri": "https://localhost:8080/"
        },
        "id": "Bvb18dhTVwQf",
        "outputId": "963e7347-040c-42af-faa0-53f7ee352ca1"
      },
      "execution_count": 14,
      "outputs": [
        {
          "output_type": "stream",
          "name": "stdout",
          "text": [
            "(1, 2, 3)\n",
            "(1, 2, 3)\n",
            "tf.Tensor(\n",
            "[[[ 1  2  3]\n",
            "  [ 4  5  6]]\n",
            "\n",
            " [[ 7  8  9]\n",
            "  [10 11 12]]], shape=(2, 2, 3), dtype=int32)\n"
          ]
        }
      ]
    },
    {
      "cell_type": "code",
      "source": [
        "#Lets see the concatanetion across axis zero, fixes 1 axis\n",
        "print(tf.concat([t1, t2], axis = 1))\n",
        "\n",
        "#It should be 1, 4, 3."
      ],
      "metadata": {
        "colab": {
          "base_uri": "https://localhost:8080/"
        },
        "id": "mBlkJP03Wc7Q",
        "outputId": "606664c4-1e79-4c11-d754-9557b344e2fa"
      },
      "execution_count": 15,
      "outputs": [
        {
          "output_type": "stream",
          "name": "stdout",
          "text": [
            "tf.Tensor(\n",
            "[[[ 1  2  3]\n",
            "  [ 4  5  6]\n",
            "  [ 7  8  9]\n",
            "  [10 11 12]]], shape=(1, 4, 3), dtype=int32)\n"
          ]
        }
      ]
    },
    {
      "cell_type": "code",
      "source": [
        "#Lets see the concatanetion across axis zero, fixes 2 axis\n",
        "print(tf.concat([t1, t2], axis = 2))\n",
        "\n",
        "#It should be 1, 2, 6."
      ],
      "metadata": {
        "colab": {
          "base_uri": "https://localhost:8080/"
        },
        "id": "-ZcglTzfWiAx",
        "outputId": "c8948187-9c21-44ac-f67d-6e9ca81f5c00"
      },
      "execution_count": 16,
      "outputs": [
        {
          "output_type": "stream",
          "name": "stdout",
          "text": [
            "tf.Tensor(\n",
            "[[[ 1  2  3  7  8  9]\n",
            "  [ 4  5  6 10 11 12]]], shape=(1, 2, 6), dtype=int32)\n"
          ]
        }
      ]
    },
    {
      "cell_type": "code",
      "source": [
        "### Concatanetion works like this\n",
        "# We went from 1,2,3 - 1,2,3 -> 2,2,3 when axis = 0\n",
        "# It goes from 1,2,3 - 1,2,3 -> 1,4,3 when axis = 1\n",
        "# It goes from 1,2,3 - 1,2,3 -> 1,2,6 when axis = 2"
      ],
      "metadata": {
        "id": "PnoF2KU2aUwD"
      },
      "execution_count": 17,
      "outputs": []
    },
    {
      "cell_type": "markdown",
      "source": [
        "###tensorflow: Stacking\n",
        "This is another common method in tensorflow, adding a new axis to stack the tensors."
      ],
      "metadata": {
        "id": "ymgqhZv1WwVR"
      }
    },
    {
      "cell_type": "code",
      "source": [
        "# t1 and t2 tensors\n",
        "t1 = [[1, 2, 3],\n",
        "      [4, 5, 6],\n",
        "      [5, 6, 2],\n",
        "      [1, 2, 1]]\n",
        "\n",
        "t2 = [[7, 8, 9],\n",
        "      [10, 11, 12],\n",
        "      [0, 0, 2],\n",
        "      [-1, 5, 2]]\n",
        "\n",
        "# Print lets see the shape\n",
        "print(tf.constant(t1).shape)\n",
        "print(tf.constant(t2).shape)\n",
        "\n",
        "#This should create a new axis\n",
        "tf.stack([t1, t2], axis = 0)"
      ],
      "metadata": {
        "colab": {
          "base_uri": "https://localhost:8080/"
        },
        "id": "exLuon67W3kM",
        "outputId": "f2019910-13b9-4a5e-bad3-91c4bdf819e6"
      },
      "execution_count": 18,
      "outputs": [
        {
          "output_type": "stream",
          "name": "stdout",
          "text": [
            "(4, 3)\n",
            "(4, 3)\n"
          ]
        },
        {
          "output_type": "execute_result",
          "data": {
            "text/plain": [
              "<tf.Tensor: shape=(2, 4, 3), dtype=int32, numpy=\n",
              "array([[[ 1,  2,  3],\n",
              "        [ 4,  5,  6],\n",
              "        [ 5,  6,  2],\n",
              "        [ 1,  2,  1]],\n",
              "\n",
              "       [[ 7,  8,  9],\n",
              "        [10, 11, 12],\n",
              "        [ 0,  0,  2],\n",
              "        [-1,  5,  2]]], dtype=int32)>"
            ]
          },
          "metadata": {},
          "execution_count": 18
        }
      ]
    },
    {
      "cell_type": "code",
      "source": [
        "# We went from 4,3 - 4,3 -> 2,4,3 when axis = 0\n",
        "# It goes from 4,3 - 4,3 -> 4,2,3 when axis = 1\n",
        "# It goes from 4,3 - 4,3 -> 4,3,2 when axis = 2\n",
        "print(tf.stack([t1, t2], axis = 1))\n",
        "print(tf.stack([t1, t2], axis = 2))"
      ],
      "metadata": {
        "colab": {
          "base_uri": "https://localhost:8080/"
        },
        "id": "kT0TLoeOXYnl",
        "outputId": "b4d9ec9f-e5b7-447d-8d08-2e884d182434"
      },
      "execution_count": 19,
      "outputs": [
        {
          "output_type": "stream",
          "name": "stdout",
          "text": [
            "tf.Tensor(\n",
            "[[[ 1  2  3]\n",
            "  [ 7  8  9]]\n",
            "\n",
            " [[ 4  5  6]\n",
            "  [10 11 12]]\n",
            "\n",
            " [[ 5  6  2]\n",
            "  [ 0  0  2]]\n",
            "\n",
            " [[ 1  2  1]\n",
            "  [-1  5  2]]], shape=(4, 2, 3), dtype=int32)\n",
            "tf.Tensor(\n",
            "[[[ 1  7]\n",
            "  [ 2  8]\n",
            "  [ 3  9]]\n",
            "\n",
            " [[ 4 10]\n",
            "  [ 5 11]\n",
            "  [ 6 12]]\n",
            "\n",
            " [[ 5  0]\n",
            "  [ 6  0]\n",
            "  [ 2  2]]\n",
            "\n",
            " [[ 1 -1]\n",
            "  [ 2  5]\n",
            "  [ 1  2]]], shape=(4, 3, 2), dtype=int32)\n"
          ]
        }
      ]
    },
    {
      "cell_type": "code",
      "source": [
        "# Lets emualte stack with concatanetion!\n",
        "tf.concat([tf.expand_dims(t, axis = 0) for t in [t1, t2]], axis = 0)\n",
        "\n",
        "#Expand dims function\n",
        "# 4, 3 - 4,3 -> 1, 4, 3 - 1, 4, 3\n",
        "#Concat function to new tensors\n",
        "# 1, 4, 3 - 1, 4, 3 -> 2, 4, 3"
      ],
      "metadata": {
        "colab": {
          "base_uri": "https://localhost:8080/"
        },
        "id": "FqgD5BCRfG8z",
        "outputId": "d61c39ba-31ce-40f6-d134-37ede018e88a"
      },
      "execution_count": 20,
      "outputs": [
        {
          "output_type": "execute_result",
          "data": {
            "text/plain": [
              "<tf.Tensor: shape=(2, 4, 3), dtype=int32, numpy=\n",
              "array([[[ 1,  2,  3],\n",
              "        [ 4,  5,  6],\n",
              "        [ 5,  6,  2],\n",
              "        [ 1,  2,  1]],\n",
              "\n",
              "       [[ 7,  8,  9],\n",
              "        [10, 11, 12],\n",
              "        [ 0,  0,  2],\n",
              "        [-1,  5,  2]]], dtype=int32)>"
            ]
          },
          "metadata": {},
          "execution_count": 20
        }
      ]
    },
    {
      "cell_type": "markdown",
      "source": [
        "### tensorflow padding"
      ],
      "metadata": {
        "id": "w0mgYprEFnHU"
      }
    },
    {
      "cell_type": "code",
      "source": [
        "#Define tensor\n",
        "t = tf.constant([[1, 2, 3],\n",
        "                 [4, 5, 6]])\n",
        "\n",
        "#Define the paddings as the following:\n",
        "# [1, 1] -> One row up and one row below\n",
        "# [2, 2] -> Two columns left and right\n",
        "# We can play with this to determine different paddings\n",
        "\n",
        "paddings = tf.constant([[1, 1,], [2, 2]])\n",
        "# 'constant_values' is 0.\n",
        "# rank of 't' is 2.\n",
        "tf.pad(t, paddings, \"CONSTANT\", constant_values = 0)"
      ],
      "metadata": {
        "colab": {
          "base_uri": "https://localhost:8080/"
        },
        "id": "sZ1pEodYFqFm",
        "outputId": "9820a9ae-f382-4d7b-e123-53ed0115f8bf"
      },
      "execution_count": 29,
      "outputs": [
        {
          "output_type": "execute_result",
          "data": {
            "text/plain": [
              "<tf.Tensor: shape=(4, 7), dtype=int32, numpy=\n",
              "array([[0, 0, 0, 0, 0, 0, 0],\n",
              "       [0, 0, 1, 2, 3, 0, 0],\n",
              "       [0, 0, 4, 5, 6, 0, 0],\n",
              "       [0, 0, 0, 0, 0, 0, 0]], dtype=int32)>"
            ]
          },
          "metadata": {},
          "execution_count": 29
        }
      ]
    },
    {
      "cell_type": "markdown",
      "source": [
        "### tensorflow gathering"
      ],
      "metadata": {
        "id": "aSXoGRdLGej3"
      }
    },
    {
      "cell_type": "code",
      "source": [
        "#Lets define a tensor named\n",
        "params = tf.constant(['p0', 'p1', 'p2', 'p3', 'p4', 'p5'])\n",
        "params.shape\n",
        "params[1:3+1]"
      ],
      "metadata": {
        "colab": {
          "base_uri": "https://localhost:8080/"
        },
        "id": "I3Bf0S25GkgA",
        "outputId": "a375dd79-4994-4082-833b-a504b2ec9617"
      },
      "execution_count": 35,
      "outputs": [
        {
          "output_type": "execute_result",
          "data": {
            "text/plain": [
              "<tf.Tensor: shape=(3,), dtype=string, numpy=array([b'p1', b'p2', b'p3'], dtype=object)>"
            ]
          },
          "metadata": {},
          "execution_count": 35
        }
      ]
    },
    {
      "cell_type": "code",
      "source": [
        "tf.gather(params, [0, 5, 3])"
      ],
      "metadata": {
        "colab": {
          "base_uri": "https://localhost:8080/"
        },
        "id": "hgH-XHRhG9dP",
        "outputId": "b5e3a8ef-f6d2-4927-f9b6-aa5de11e2a99"
      },
      "execution_count": 33,
      "outputs": [
        {
          "output_type": "execute_result",
          "data": {
            "text/plain": [
              "<tf.Tensor: shape=(3,), dtype=string, numpy=array([b'p0', b'p5', b'p3'], dtype=object)>"
            ]
          },
          "metadata": {},
          "execution_count": 33
        }
      ]
    },
    {
      "cell_type": "code",
      "source": [
        "#Lets do it for 2D\n",
        "params = tf.constant([[0, 1.0, 2.0],\n",
        "                      [10.0, 11.0, 12.0],\n",
        "                      [20.0, 21.0, 22.0],\n",
        "                      [30.0, 31.0, 32.0]])\n",
        "print(params.shape)\n",
        "tf.gather(params, [0, 3], axis = 0)"
      ],
      "metadata": {
        "colab": {
          "base_uri": "https://localhost:8080/"
        },
        "id": "46NUjccPHZf7",
        "outputId": "102f7c90-df66-4596-89c7-4597ed73ecd4"
      },
      "execution_count": 39,
      "outputs": [
        {
          "output_type": "stream",
          "name": "stdout",
          "text": [
            "(4, 3)\n"
          ]
        },
        {
          "output_type": "execute_result",
          "data": {
            "text/plain": [
              "<tf.Tensor: shape=(2, 3), dtype=float32, numpy=\n",
              "array([[ 0.,  1.,  2.],\n",
              "       [30., 31., 32.]], dtype=float32)>"
            ]
          },
          "metadata": {},
          "execution_count": 39
        }
      ]
    },
    {
      "cell_type": "code",
      "source": [
        "tf.gather(params, [0, 2], axis = 1)"
      ],
      "metadata": {
        "colab": {
          "base_uri": "https://localhost:8080/"
        },
        "id": "T4M1Sz9PIT4q",
        "outputId": "178bbd0d-42ae-465f-e1a4-cb7bb333f293"
      },
      "execution_count": 43,
      "outputs": [
        {
          "output_type": "execute_result",
          "data": {
            "text/plain": [
              "<tf.Tensor: shape=(4, 2), dtype=float32, numpy=\n",
              "array([[ 0.,  2.],\n",
              "       [10., 12.],\n",
              "       [20., 22.],\n",
              "       [30., 32.]], dtype=float32)>"
            ]
          },
          "metadata": {},
          "execution_count": 43
        }
      ]
    },
    {
      "cell_type": "code",
      "source": [
        "#Lets do it for 3D\n",
        "params = tf.constant([\n",
        "                      [[0, 1.0, 2.0],\n",
        "                      [10.0, 11.0, 12.0],\n",
        "                      [20.0, 21.0, 22.0],\n",
        "                      [30.0, 31.0, 32.0]],\n",
        "\n",
        "                      [[3, 1, 5.0],\n",
        "                      [1, 3, 10],\n",
        "                      [0, 5, 32.0],\n",
        "                      [0, 2, 4.0]]\n",
        "\n",
        "                      ])\n",
        "print(params.shape)\n",
        "tf.gather(params, [0, 1], axis = 0)"
      ],
      "metadata": {
        "colab": {
          "base_uri": "https://localhost:8080/"
        },
        "id": "RVtOcJGlIxDl",
        "outputId": "9affe856-b94d-422e-e634-17e8472c2e8b"
      },
      "execution_count": 55,
      "outputs": [
        {
          "output_type": "stream",
          "name": "stdout",
          "text": [
            "(2, 4, 3)\n"
          ]
        },
        {
          "output_type": "execute_result",
          "data": {
            "text/plain": [
              "<tf.Tensor: shape=(2, 4, 3), dtype=float32, numpy=\n",
              "array([[[ 0.,  1.,  2.],\n",
              "        [10., 11., 12.],\n",
              "        [20., 21., 22.],\n",
              "        [30., 31., 32.]],\n",
              "\n",
              "       [[ 3.,  1.,  5.],\n",
              "        [ 1.,  3., 10.],\n",
              "        [ 0.,  5., 32.],\n",
              "        [ 0.,  2.,  4.]]], dtype=float32)>"
            ]
          },
          "metadata": {},
          "execution_count": 55
        }
      ]
    },
    {
      "cell_type": "code",
      "source": [
        "tf.gather(params, [2, 0], axis = 1)"
      ],
      "metadata": {
        "colab": {
          "base_uri": "https://localhost:8080/"
        },
        "id": "q0MYizmwJMR8",
        "outputId": "19a0159b-2b71-4f57-e748-fb7e4cd93a83"
      },
      "execution_count": 56,
      "outputs": [
        {
          "output_type": "execute_result",
          "data": {
            "text/plain": [
              "<tf.Tensor: shape=(2, 2, 3), dtype=float32, numpy=\n",
              "array([[[20., 21., 22.],\n",
              "        [ 0.,  1.,  2.]],\n",
              "\n",
              "       [[ 0.,  5., 32.],\n",
              "        [ 3.,  1.,  5.]]], dtype=float32)>"
            ]
          },
          "metadata": {},
          "execution_count": 56
        }
      ]
    },
    {
      "cell_type": "markdown",
      "source": [
        "### tensorflow: gather_nd"
      ],
      "metadata": {
        "id": "AWwugo3CN-09"
      }
    },
    {
      "cell_type": "code",
      "source": [
        "#Define the indices\n",
        "indices=[[2, 1]]\n",
        "\n",
        "#Define a parameters\n",
        "params = [['a', 'b'],\n",
        "          ['c', 'd'],\n",
        "          ['e', 'f']]\n",
        "\n",
        "tf.gather_nd(params, indices)"
      ],
      "metadata": {
        "colab": {
          "base_uri": "https://localhost:8080/"
        },
        "id": "nDfLs6kDOA1U",
        "outputId": "3e4a3828-befd-4254-c1ae-5dfa519b0b0f"
      },
      "execution_count": 61,
      "outputs": [
        {
          "output_type": "execute_result",
          "data": {
            "text/plain": [
              "<tf.Tensor: shape=(1,), dtype=string, numpy=array([b'f'], dtype=object)>"
            ]
          },
          "metadata": {},
          "execution_count": 61
        }
      ]
    },
    {
      "cell_type": "code",
      "source": [
        "#Define the indices\n",
        "indices=[2, 1]\n",
        "tf.gather(params, indices)"
      ],
      "metadata": {
        "colab": {
          "base_uri": "https://localhost:8080/"
        },
        "id": "q9sao6WbPFON",
        "outputId": "4b9032cd-6ec9-41ca-e8a6-683af380a3d0"
      },
      "execution_count": 62,
      "outputs": [
        {
          "output_type": "execute_result",
          "data": {
            "text/plain": [
              "<tf.Tensor: shape=(2, 2), dtype=string, numpy=\n",
              "array([[b'e', b'f'],\n",
              "       [b'c', b'd']], dtype=object)>"
            ]
          },
          "metadata": {},
          "execution_count": 62
        }
      ]
    },
    {
      "cell_type": "code",
      "source": [
        "#Define the indices in 2D\n",
        "indices=[[0, 0],\n",
        "         [1, 0]]\n",
        "\n",
        "#Define a parameters\n",
        "params = [[['a0', 'b0'],\n",
        "           ['c0', 'd0']],\n",
        "\n",
        "          [['a1', 'b1'],\n",
        "           ['c1', 'd1']]]\n",
        "\n",
        "print(tf.constant(params).shape)\n",
        "\n",
        "#Making this method batch aware\n",
        "print(tf.gather_nd(params, indices, batch_dims = 0))\n",
        "print(tf.gather_nd(params, indices, batch_dims = 1))"
      ],
      "metadata": {
        "colab": {
          "base_uri": "https://localhost:8080/"
        },
        "id": "1UIDJPYGPWdV",
        "outputId": "6628b130-f698-4f6a-fed6-53eeedb4c85d"
      },
      "execution_count": 70,
      "outputs": [
        {
          "output_type": "stream",
          "name": "stdout",
          "text": [
            "(2, 2, 2)\n",
            "tf.Tensor(\n",
            "[[b'a0' b'b0']\n",
            " [b'a1' b'b1']], shape=(2, 2), dtype=string)\n",
            "tf.Tensor([b'a0' b'c1'], shape=(2,), dtype=string)\n"
          ]
        }
      ]
    },
    {
      "cell_type": "code",
      "source": [
        "#Define the indices in 3D\n",
        "indices=[[[0, 1]],\n",
        "         [[1, 0]],\n",
        "\n",
        "         [[0, 0]],\n",
        "         [[1, 1]]]\n",
        "\n",
        "#Define a parameters\n",
        "params = [[['a0', 'b0'],\n",
        "           ['c0', 'd0']],\n",
        "\n",
        "          [['a1', 'b1'],\n",
        "           ['c1', 'd1']]]\n",
        "\n",
        "print(tf.constant(params).shape)\n",
        "\n",
        "#Making this method batch aware\n",
        "print(tf.gather_nd(params, indices, batch_dims = 0))\n",
        "print(tf.gather_nd(params, indices, batch_dims = 1))"
      ],
      "metadata": {
        "colab": {
          "base_uri": "https://localhost:8080/",
          "height": 515
        },
        "id": "pqDGrw2LRHZw",
        "outputId": "8b547344-76f9-47e4-cc46-121592d85279"
      },
      "execution_count": 72,
      "outputs": [
        {
          "output_type": "stream",
          "name": "stdout",
          "text": [
            "(2, 2, 2)\n",
            "tf.Tensor(\n",
            "[[[b'c0' b'd0']]\n",
            "\n",
            " [[b'a1' b'b1']]\n",
            "\n",
            " [[b'a0' b'b0']]\n",
            "\n",
            " [[b'c1' b'd1']]], shape=(4, 1, 2), dtype=string)\n"
          ]
        },
        {
          "output_type": "error",
          "ename": "InvalidArgumentError",
          "evalue": "{{function_node __wrapped__Reshape_device_/job:localhost/replica:0/task:0/device:CPU:0}} Input to reshape is a tensor with 8 values, but the requested shape has 4 [Op:Reshape] name: ",
          "traceback": [
            "\u001b[0;31m---------------------------------------------------------------------------\u001b[0m",
            "\u001b[0;31mInvalidArgumentError\u001b[0m                      Traceback (most recent call last)",
            "\u001b[0;32m<ipython-input-72-6b763f25459a>\u001b[0m in \u001b[0;36m<cell line: 19>\u001b[0;34m()\u001b[0m\n\u001b[1;32m     17\u001b[0m \u001b[0;31m#Making this method batch aware\u001b[0m\u001b[0;34m\u001b[0m\u001b[0;34m\u001b[0m\u001b[0m\n\u001b[1;32m     18\u001b[0m \u001b[0mprint\u001b[0m\u001b[0;34m(\u001b[0m\u001b[0mtf\u001b[0m\u001b[0;34m.\u001b[0m\u001b[0mgather_nd\u001b[0m\u001b[0;34m(\u001b[0m\u001b[0mparams\u001b[0m\u001b[0;34m,\u001b[0m \u001b[0mindices\u001b[0m\u001b[0;34m,\u001b[0m \u001b[0mbatch_dims\u001b[0m \u001b[0;34m=\u001b[0m \u001b[0;36m0\u001b[0m\u001b[0;34m)\u001b[0m\u001b[0;34m)\u001b[0m\u001b[0;34m\u001b[0m\u001b[0;34m\u001b[0m\u001b[0m\n\u001b[0;32m---> 19\u001b[0;31m \u001b[0mprint\u001b[0m\u001b[0;34m(\u001b[0m\u001b[0mtf\u001b[0m\u001b[0;34m.\u001b[0m\u001b[0mgather_nd\u001b[0m\u001b[0;34m(\u001b[0m\u001b[0mparams\u001b[0m\u001b[0;34m,\u001b[0m \u001b[0mindices\u001b[0m\u001b[0;34m,\u001b[0m \u001b[0mbatch_dims\u001b[0m \u001b[0;34m=\u001b[0m \u001b[0;36m1\u001b[0m\u001b[0;34m)\u001b[0m\u001b[0;34m)\u001b[0m\u001b[0;34m\u001b[0m\u001b[0;34m\u001b[0m\u001b[0m\n\u001b[0m",
            "\u001b[0;32m/usr/local/lib/python3.10/dist-packages/tensorflow/python/util/traceback_utils.py\u001b[0m in \u001b[0;36merror_handler\u001b[0;34m(*args, **kwargs)\u001b[0m\n\u001b[1;32m    151\u001b[0m     \u001b[0;32mexcept\u001b[0m \u001b[0mException\u001b[0m \u001b[0;32mas\u001b[0m \u001b[0me\u001b[0m\u001b[0;34m:\u001b[0m\u001b[0;34m\u001b[0m\u001b[0;34m\u001b[0m\u001b[0m\n\u001b[1;32m    152\u001b[0m       \u001b[0mfiltered_tb\u001b[0m \u001b[0;34m=\u001b[0m \u001b[0m_process_traceback_frames\u001b[0m\u001b[0;34m(\u001b[0m\u001b[0me\u001b[0m\u001b[0;34m.\u001b[0m\u001b[0m__traceback__\u001b[0m\u001b[0;34m)\u001b[0m\u001b[0;34m\u001b[0m\u001b[0;34m\u001b[0m\u001b[0m\n\u001b[0;32m--> 153\u001b[0;31m       \u001b[0;32mraise\u001b[0m \u001b[0me\u001b[0m\u001b[0;34m.\u001b[0m\u001b[0mwith_traceback\u001b[0m\u001b[0;34m(\u001b[0m\u001b[0mfiltered_tb\u001b[0m\u001b[0;34m)\u001b[0m \u001b[0;32mfrom\u001b[0m \u001b[0;32mNone\u001b[0m\u001b[0;34m\u001b[0m\u001b[0;34m\u001b[0m\u001b[0m\n\u001b[0m\u001b[1;32m    154\u001b[0m     \u001b[0;32mfinally\u001b[0m\u001b[0;34m:\u001b[0m\u001b[0;34m\u001b[0m\u001b[0;34m\u001b[0m\u001b[0m\n\u001b[1;32m    155\u001b[0m       \u001b[0;32mdel\u001b[0m \u001b[0mfiltered_tb\u001b[0m\u001b[0;34m\u001b[0m\u001b[0;34m\u001b[0m\u001b[0m\n",
            "\u001b[0;32m/usr/local/lib/python3.10/dist-packages/tensorflow/python/framework/ops.py\u001b[0m in \u001b[0;36mraise_from_not_ok_status\u001b[0;34m(e, name)\u001b[0m\n\u001b[1;32m   5981\u001b[0m \u001b[0;32mdef\u001b[0m \u001b[0mraise_from_not_ok_status\u001b[0m\u001b[0;34m(\u001b[0m\u001b[0me\u001b[0m\u001b[0;34m,\u001b[0m \u001b[0mname\u001b[0m\u001b[0;34m)\u001b[0m \u001b[0;34m->\u001b[0m \u001b[0mNoReturn\u001b[0m\u001b[0;34m:\u001b[0m\u001b[0;34m\u001b[0m\u001b[0;34m\u001b[0m\u001b[0m\n\u001b[1;32m   5982\u001b[0m   \u001b[0me\u001b[0m\u001b[0;34m.\u001b[0m\u001b[0mmessage\u001b[0m \u001b[0;34m+=\u001b[0m \u001b[0;34m(\u001b[0m\u001b[0;34m\" name: \"\u001b[0m \u001b[0;34m+\u001b[0m \u001b[0mstr\u001b[0m\u001b[0;34m(\u001b[0m\u001b[0mname\u001b[0m \u001b[0;32mif\u001b[0m \u001b[0mname\u001b[0m \u001b[0;32mis\u001b[0m \u001b[0;32mnot\u001b[0m \u001b[0;32mNone\u001b[0m \u001b[0;32melse\u001b[0m \u001b[0;34m\"\"\u001b[0m\u001b[0;34m)\u001b[0m\u001b[0;34m)\u001b[0m\u001b[0;34m\u001b[0m\u001b[0;34m\u001b[0m\u001b[0m\n\u001b[0;32m-> 5983\u001b[0;31m   \u001b[0;32mraise\u001b[0m \u001b[0mcore\u001b[0m\u001b[0;34m.\u001b[0m\u001b[0m_status_to_exception\u001b[0m\u001b[0;34m(\u001b[0m\u001b[0me\u001b[0m\u001b[0;34m)\u001b[0m \u001b[0;32mfrom\u001b[0m \u001b[0;32mNone\u001b[0m  \u001b[0;31m# pylint: disable=protected-access\u001b[0m\u001b[0;34m\u001b[0m\u001b[0;34m\u001b[0m\u001b[0m\n\u001b[0m\u001b[1;32m   5984\u001b[0m \u001b[0;34m\u001b[0m\u001b[0m\n\u001b[1;32m   5985\u001b[0m \u001b[0;34m\u001b[0m\u001b[0m\n",
            "\u001b[0;31mInvalidArgumentError\u001b[0m: {{function_node __wrapped__Reshape_device_/job:localhost/replica:0/task:0/device:CPU:0}} Input to reshape is a tensor with 8 values, but the requested shape has 4 [Op:Reshape] name: "
          ]
        }
      ]
    }
  ]
}