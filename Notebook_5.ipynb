{
  "nbformat": 4,
  "nbformat_minor": 0,
  "metadata": {
    "colab": {
      "provenance": [],
      "authorship_tag": "ABX9TyPeijPwFqZIqmjv7kVhvmhD",
      "include_colab_link": true
    },
    "kernelspec": {
      "name": "python3",
      "display_name": "Python 3"
    },
    "language_info": {
      "name": "python"
    }
  },
  "cells": [
    {
      "cell_type": "markdown",
      "metadata": {
        "id": "view-in-github",
        "colab_type": "text"
      },
      "source": [
        "<a href=\"https://colab.research.google.com/github/juanpajedrez/tensorflow_learning/blob/main/Notebook_5.ipynb\" target=\"_parent\"><img src=\"https://colab.research.google.com/assets/colab-badge.svg\" alt=\"Open In Colab\"/></a>"
      ]
    },
    {
      "cell_type": "code",
      "execution_count": 1,
      "metadata": {
        "id": "9zvyovkcY_s0"
      },
      "outputs": [],
      "source": [
        "# Lets get the following here\n",
        "import tensorflow as tf"
      ]
    },
    {
      "cell_type": "markdown",
      "source": [
        "### Tensorflow ragged tensors\n",
        "Create tensors that have uneven number of elements"
      ],
      "metadata": {
        "id": "bBYz6zSGZYKX"
      }
    },
    {
      "cell_type": "code",
      "source": [
        "tensor_two_d = tf.constant([[1,2,0],\n",
        "                            [3,5,-1],\n",
        "                            [1,5,6],\n",
        "                            [2,3,8]])\n",
        "print(tensor_two_d.shape)"
      ],
      "metadata": {
        "colab": {
          "base_uri": "https://localhost:8080/"
        },
        "id": "JCvF3s2RZZ_u",
        "outputId": "f459d65f-52bc-4d81-815e-0939d6c649dc"
      },
      "execution_count": 2,
      "outputs": [
        {
          "output_type": "stream",
          "name": "stdout",
          "text": [
            "(4, 3)\n"
          ]
        }
      ]
    },
    {
      "cell_type": "code",
      "source": [
        "# Create a ragged tensor with different number of columns: n, d.\n",
        "tensor_two_d = [[1,2,0],\n",
        "                [3,],\n",
        "                [1,5,6,5,6],\n",
        "                [2,3]]\n",
        "tensor_ragged = tf.ragged.constant(tensor_two_d)\n",
        "print(tensor_ragged.shape)"
      ],
      "metadata": {
        "colab": {
          "base_uri": "https://localhost:8080/"
        },
        "id": "XpdALG5lZtDX",
        "outputId": "f891d010-9b8f-4ce4-f4d9-f72c3049776c"
      },
      "execution_count": 3,
      "outputs": [
        {
          "output_type": "stream",
          "name": "stdout",
          "text": [
            "(4, None)\n"
          ]
        }
      ]
    },
    {
      "cell_type": "markdown",
      "source": [
        "### tensorflow boolean mask\n",
        "Pass a tensor list and pass a mask"
      ],
      "metadata": {
        "id": "e1WD0MjaasEp"
      }
    },
    {
      "cell_type": "code",
      "source": [
        "  # Mask a 2D Tensor using specific mask indices\n",
        "tf.ragged.boolean_mask(\n",
        "    data=[[1, 2, 3], [4, 5, 6], [7, 8, 9]],\n",
        "    mask=[[True, False, True], [False, False, False], [True, False, False]]).to_list()"
      ],
      "metadata": {
        "colab": {
          "base_uri": "https://localhost:8080/"
        },
        "id": "QFEMDaELbN8P",
        "outputId": "09f308d4-30fe-4907-8dea-253a063ecdab"
      },
      "execution_count": 4,
      "outputs": [
        {
          "output_type": "execute_result",
          "data": {
            "text/plain": [
              "[[1, 3], [], [7]]"
            ]
          },
          "metadata": {},
          "execution_count": 4
        }
      ]
    },
    {
      "cell_type": "markdown",
      "source": [
        "### tensorflow ragged tensors: from row lengths\n",
        "Take a look at the class method to generate a ragged tensor using from row lengths"
      ],
      "metadata": {
        "id": "cPSxlEkJbrj5"
      }
    },
    {
      "cell_type": "code",
      "source": [
        "print(tf.RaggedTensor.from_row_lengths(\n",
        "    values = [3, 1, 4, 1, 5, 9, 2, 6],\n",
        "    row_lengths = [4, 0, 3, 1, 0]\n",
        "))"
      ],
      "metadata": {
        "colab": {
          "base_uri": "https://localhost:8080/"
        },
        "id": "MtTJa0eUby7v",
        "outputId": "7d6a1b73-28e2-4d26-b9a9-f51116825e61"
      },
      "execution_count": 5,
      "outputs": [
        {
          "output_type": "stream",
          "name": "stdout",
          "text": [
            "<tf.RaggedTensor [[3, 1, 4, 1], [], [5, 9, 2], [6], []]>\n"
          ]
        }
      ]
    },
    {
      "cell_type": "markdown",
      "source": [
        "### tensorflow ragged tensors: from row limits\n",
        "Take a look at the class method to generate a ragged tensor using row limits."
      ],
      "metadata": {
        "id": "EZoNiTs8cUtR"
      }
    },
    {
      "cell_type": "code",
      "source": [
        "print(tf.RaggedTensor.from_row_limits(\n",
        "    values = [3, 1, 4, 1, 5, 9, 2, 6],\n",
        "    row_limits = [4, 4, 7, 8, 8]\n",
        "))"
      ],
      "metadata": {
        "colab": {
          "base_uri": "https://localhost:8080/"
        },
        "id": "56LUZy9rce9Y",
        "outputId": "b8b37098-a622-4009-9008-54393df4abc6"
      },
      "execution_count": 6,
      "outputs": [
        {
          "output_type": "stream",
          "name": "stdout",
          "text": [
            "<tf.RaggedTensor [[3, 1, 4, 1], [], [5, 9, 2], [6], []]>\n"
          ]
        }
      ]
    },
    {
      "cell_type": "markdown",
      "source": [
        "### tensorflow ragged tensors: from row splits\n",
        "Take a look at the class method to generate a raggeed tensor using from row splits."
      ],
      "metadata": {
        "id": "ta0pWHm_c77h"
      }
    },
    {
      "cell_type": "code",
      "source": [
        "print(tf.RaggedTensor.from_row_splits(\n",
        "    values = [3, 1, 4, 1, 5, 9, 2, 6],\n",
        "    row_splits = [0, 4, 4, 7, 8, 8]\n",
        "))"
      ],
      "metadata": {
        "colab": {
          "base_uri": "https://localhost:8080/"
        },
        "id": "gecRq9ezdE0A",
        "outputId": "3cbc35c3-d219-417a-eb89-cbba8159ba67"
      },
      "execution_count": 7,
      "outputs": [
        {
          "output_type": "stream",
          "name": "stdout",
          "text": [
            "<tf.RaggedTensor [[3, 1, 4, 1], [], [5, 9, 2], [6], []]>\n"
          ]
        }
      ]
    },
    {
      "cell_type": "markdown",
      "source": [
        "### tensorflow ragged tensors: from Tensor\n",
        "Take a look at using this class method to obtain a ragged tensor"
      ],
      "metadata": {
        "id": "sFSnv5RcHUd0"
      }
    },
    {
      "cell_type": "code",
      "source": [
        "#Example from the python docs\n",
        "dt = tf.constant([\n",
        "    [5, 7, 0],\n",
        "    [0, 3, 0],\n",
        "    [6, 0, 0]])"
      ],
      "metadata": {
        "id": "CzspdfhxHeil"
      },
      "execution_count": 8,
      "outputs": []
    },
    {
      "cell_type": "code",
      "source": [
        "#Obtain the tf ragged tensor\n",
        "tf.RaggedTensor.from_tensor(dt)"
      ],
      "metadata": {
        "colab": {
          "base_uri": "https://localhost:8080/"
        },
        "id": "6gzH0PtdHl0p",
        "outputId": "425408a6-3ba6-482a-ffd4-f9cc38c1dcd6"
      },
      "execution_count": 9,
      "outputs": [
        {
          "output_type": "execute_result",
          "data": {
            "text/plain": [
              "<tf.RaggedTensor [[5, 7, 0],\n",
              " [0, 3, 0],\n",
              " [6, 0, 0]]>"
            ]
          },
          "metadata": {},
          "execution_count": 9
        }
      ]
    },
    {
      "cell_type": "code",
      "source": [
        "#Select specific lenghts\n",
        "tf.RaggedTensor.from_tensor(dt, lengths=[1, 0, 3])"
      ],
      "metadata": {
        "colab": {
          "base_uri": "https://localhost:8080/"
        },
        "id": "JaORyo6lHl3p",
        "outputId": "9eb725ce-7855-4811-87ba-6401986f32d5"
      },
      "execution_count": 10,
      "outputs": [
        {
          "output_type": "execute_result",
          "data": {
            "text/plain": [
              "<tf.RaggedTensor [[5], [], [6, 0, 0]]>"
            ]
          },
          "metadata": {},
          "execution_count": 10
        }
      ]
    },
    {
      "cell_type": "markdown",
      "source": [
        "### Tensorflow: Creating sparse Tensor\n",
        "This is to deal with tensors that contains a lot of zeroes."
      ],
      "metadata": {
        "id": "iO3YQtRWH2JX"
      }
    },
    {
      "cell_type": "code",
      "source": [
        "#Lets define a tensor_sparse object\n",
        "tensor_sparse = tf.sparse.SparseTensor(\n",
        "   indices = [[1,1], [3,4]], values =  [11, 56], dense_shape = [5,6]\n",
        ")"
      ],
      "metadata": {
        "id": "B6rTZZsbH77t"
      },
      "execution_count": 12,
      "outputs": []
    },
    {
      "cell_type": "code",
      "source": [
        "#Lets print it\n",
        "print(tensor_sparse)"
      ],
      "metadata": {
        "colab": {
          "base_uri": "https://localhost:8080/"
        },
        "id": "817dveHWIW0R",
        "outputId": "b0584874-d0a7-4ebd-ae71-52ef90d9063b"
      },
      "execution_count": 13,
      "outputs": [
        {
          "output_type": "stream",
          "name": "stdout",
          "text": [
            "SparseTensor(indices=tf.Tensor(\n",
            "[[1 1]\n",
            " [3 4]], shape=(2, 2), dtype=int64), values=tf.Tensor([11 56], shape=(2,), dtype=int32), dense_shape=tf.Tensor([5 6], shape=(2,), dtype=int64))\n"
          ]
        }
      ]
    },
    {
      "cell_type": "code",
      "source": [
        "#Lets push it to dense\n",
        "tf.sparse.to_dense(tensor_sparse)"
      ],
      "metadata": {
        "colab": {
          "base_uri": "https://localhost:8080/"
        },
        "id": "Rta8Y1_rIMsO",
        "outputId": "1b659b0d-52f0-4f57-df3f-078f25d25ba3"
      },
      "execution_count": 14,
      "outputs": [
        {
          "output_type": "execute_result",
          "data": {
            "text/plain": [
              "<tf.Tensor: shape=(5, 6), dtype=int32, numpy=\n",
              "array([[ 0,  0,  0,  0,  0,  0],\n",
              "       [ 0, 11,  0,  0,  0,  0],\n",
              "       [ 0,  0,  0,  0,  0,  0],\n",
              "       [ 0,  0,  0,  0, 56,  0],\n",
              "       [ 0,  0,  0,  0,  0,  0]], dtype=int32)>"
            ]
          },
          "metadata": {},
          "execution_count": 14
        }
      ]
    },
    {
      "cell_type": "markdown",
      "source": [
        "### Tensorflow: Tensors Strings"
      ],
      "metadata": {
        "id": "q_RqpynKI6Fh"
      }
    },
    {
      "cell_type": "code",
      "source": [
        "#Lets create a tensor string\n",
        "tensor_string = tf.constant([\"hello\", \"I am\", \"a string\"])\n",
        "print(tensor_string)"
      ],
      "metadata": {
        "colab": {
          "base_uri": "https://localhost:8080/"
        },
        "id": "p4KmYm0CI_V2",
        "outputId": "d6399e4d-3576-41ea-d47f-6a2839ee8efe"
      },
      "execution_count": 15,
      "outputs": [
        {
          "output_type": "stream",
          "name": "stdout",
          "text": [
            "tf.Tensor([b'hello' b'I am' b'a string'], shape=(3,), dtype=string)\n"
          ]
        }
      ]
    },
    {
      "cell_type": "code",
      "source": [
        "#Lets join all of them together\n",
        "tf.strings.join(tensor_string, separator = \"+\")"
      ],
      "metadata": {
        "colab": {
          "base_uri": "https://localhost:8080/"
        },
        "id": "Tg23tKnJJPpE",
        "outputId": "1dc06b25-cd1d-4211-8641-baedaa7afdc9"
      },
      "execution_count": 19,
      "outputs": [
        {
          "output_type": "execute_result",
          "data": {
            "text/plain": [
              "<tf.Tensor: shape=(), dtype=string, numpy=b'hello+I am+a string'>"
            ]
          },
          "metadata": {},
          "execution_count": 19
        }
      ]
    }
  ]
}